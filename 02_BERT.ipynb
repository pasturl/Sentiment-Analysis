{
  "nbformat": 4,
  "nbformat_minor": 0,
  "metadata": {
    "accelerator": "GPU",
    "colab": {
      "name": "02_BERT.ipynb",
      "provenance": [],
      "collapsed_sections": []
    },
    "kernelspec": {
      "display_name": "Python 3",
      "name": "python3"
    },
    "language_info": {
      "name": "python"
    },
    "widgets": {
      "application/vnd.jupyter.widget-state+json": {
        "cfc8ca1bf58746c19a5da7757e640be9": {
          "model_module": "@jupyter-widgets/controls",
          "model_name": "HBoxModel",
          "model_module_version": "1.5.0",
          "state": {
            "_view_name": "HBoxView",
            "_dom_classes": [],
            "_model_name": "HBoxModel",
            "_view_module": "@jupyter-widgets/controls",
            "_model_module_version": "1.5.0",
            "_view_count": null,
            "_view_module_version": "1.5.0",
            "box_style": "",
            "layout": "IPY_MODEL_9354a01496b54306baf37bfab1766835",
            "_model_module": "@jupyter-widgets/controls",
            "children": [
              "IPY_MODEL_f932e6bcd4ff4bfdba3d87d3ce386a8e",
              "IPY_MODEL_6b157dd1688849f38954ac2b4abc65c6"
            ]
          }
        },
        "9354a01496b54306baf37bfab1766835": {
          "model_module": "@jupyter-widgets/base",
          "model_name": "LayoutModel",
          "model_module_version": "1.2.0",
          "state": {
            "_view_name": "LayoutView",
            "grid_template_rows": null,
            "right": null,
            "justify_content": null,
            "_view_module": "@jupyter-widgets/base",
            "overflow": null,
            "_model_module_version": "1.2.0",
            "_view_count": null,
            "flex_flow": null,
            "width": null,
            "min_width": null,
            "border": null,
            "align_items": null,
            "bottom": null,
            "_model_module": "@jupyter-widgets/base",
            "top": null,
            "grid_column": null,
            "overflow_y": null,
            "overflow_x": null,
            "grid_auto_flow": null,
            "grid_area": null,
            "grid_template_columns": null,
            "flex": null,
            "_model_name": "LayoutModel",
            "justify_items": null,
            "grid_row": null,
            "max_height": null,
            "align_content": null,
            "visibility": null,
            "align_self": null,
            "height": null,
            "min_height": null,
            "padding": null,
            "grid_auto_rows": null,
            "grid_gap": null,
            "max_width": null,
            "order": null,
            "_view_module_version": "1.2.0",
            "grid_template_areas": null,
            "object_position": null,
            "object_fit": null,
            "grid_auto_columns": null,
            "margin": null,
            "display": null,
            "left": null
          }
        },
        "f932e6bcd4ff4bfdba3d87d3ce386a8e": {
          "model_module": "@jupyter-widgets/controls",
          "model_name": "FloatProgressModel",
          "model_module_version": "1.5.0",
          "state": {
            "_view_name": "ProgressView",
            "style": "IPY_MODEL_683e22a8bf63413a91f2ddbcaefb831b",
            "_dom_classes": [],
            "description": "Downloading: 100%",
            "_model_name": "FloatProgressModel",
            "bar_style": "success",
            "max": 570,
            "_view_module": "@jupyter-widgets/controls",
            "_model_module_version": "1.5.0",
            "value": 570,
            "_view_count": null,
            "_view_module_version": "1.5.0",
            "orientation": "horizontal",
            "min": 0,
            "description_tooltip": null,
            "_model_module": "@jupyter-widgets/controls",
            "layout": "IPY_MODEL_d902c1b0fd704dafb40b136b8c45e0be"
          }
        },
        "6b157dd1688849f38954ac2b4abc65c6": {
          "model_module": "@jupyter-widgets/controls",
          "model_name": "HTMLModel",
          "model_module_version": "1.5.0",
          "state": {
            "_view_name": "HTMLView",
            "style": "IPY_MODEL_92830e9bcddb45c8aae580387227bf9e",
            "_dom_classes": [],
            "description": "",
            "_model_name": "HTMLModel",
            "placeholder": "​",
            "_view_module": "@jupyter-widgets/controls",
            "_model_module_version": "1.5.0",
            "value": " 570/570 [00:00&lt;00:00, 1.65kB/s]",
            "_view_count": null,
            "_view_module_version": "1.5.0",
            "description_tooltip": null,
            "_model_module": "@jupyter-widgets/controls",
            "layout": "IPY_MODEL_c4ef1eee293a43f0bef069703a43eaeb"
          }
        },
        "683e22a8bf63413a91f2ddbcaefb831b": {
          "model_module": "@jupyter-widgets/controls",
          "model_name": "ProgressStyleModel",
          "model_module_version": "1.5.0",
          "state": {
            "_view_name": "StyleView",
            "_model_name": "ProgressStyleModel",
            "description_width": "initial",
            "_view_module": "@jupyter-widgets/base",
            "_model_module_version": "1.5.0",
            "_view_count": null,
            "_view_module_version": "1.2.0",
            "bar_color": null,
            "_model_module": "@jupyter-widgets/controls"
          }
        },
        "d902c1b0fd704dafb40b136b8c45e0be": {
          "model_module": "@jupyter-widgets/base",
          "model_name": "LayoutModel",
          "model_module_version": "1.2.0",
          "state": {
            "_view_name": "LayoutView",
            "grid_template_rows": null,
            "right": null,
            "justify_content": null,
            "_view_module": "@jupyter-widgets/base",
            "overflow": null,
            "_model_module_version": "1.2.0",
            "_view_count": null,
            "flex_flow": null,
            "width": null,
            "min_width": null,
            "border": null,
            "align_items": null,
            "bottom": null,
            "_model_module": "@jupyter-widgets/base",
            "top": null,
            "grid_column": null,
            "overflow_y": null,
            "overflow_x": null,
            "grid_auto_flow": null,
            "grid_area": null,
            "grid_template_columns": null,
            "flex": null,
            "_model_name": "LayoutModel",
            "justify_items": null,
            "grid_row": null,
            "max_height": null,
            "align_content": null,
            "visibility": null,
            "align_self": null,
            "height": null,
            "min_height": null,
            "padding": null,
            "grid_auto_rows": null,
            "grid_gap": null,
            "max_width": null,
            "order": null,
            "_view_module_version": "1.2.0",
            "grid_template_areas": null,
            "object_position": null,
            "object_fit": null,
            "grid_auto_columns": null,
            "margin": null,
            "display": null,
            "left": null
          }
        },
        "92830e9bcddb45c8aae580387227bf9e": {
          "model_module": "@jupyter-widgets/controls",
          "model_name": "DescriptionStyleModel",
          "model_module_version": "1.5.0",
          "state": {
            "_view_name": "StyleView",
            "_model_name": "DescriptionStyleModel",
            "description_width": "",
            "_view_module": "@jupyter-widgets/base",
            "_model_module_version": "1.5.0",
            "_view_count": null,
            "_view_module_version": "1.2.0",
            "_model_module": "@jupyter-widgets/controls"
          }
        },
        "c4ef1eee293a43f0bef069703a43eaeb": {
          "model_module": "@jupyter-widgets/base",
          "model_name": "LayoutModel",
          "model_module_version": "1.2.0",
          "state": {
            "_view_name": "LayoutView",
            "grid_template_rows": null,
            "right": null,
            "justify_content": null,
            "_view_module": "@jupyter-widgets/base",
            "overflow": null,
            "_model_module_version": "1.2.0",
            "_view_count": null,
            "flex_flow": null,
            "width": null,
            "min_width": null,
            "border": null,
            "align_items": null,
            "bottom": null,
            "_model_module": "@jupyter-widgets/base",
            "top": null,
            "grid_column": null,
            "overflow_y": null,
            "overflow_x": null,
            "grid_auto_flow": null,
            "grid_area": null,
            "grid_template_columns": null,
            "flex": null,
            "_model_name": "LayoutModel",
            "justify_items": null,
            "grid_row": null,
            "max_height": null,
            "align_content": null,
            "visibility": null,
            "align_self": null,
            "height": null,
            "min_height": null,
            "padding": null,
            "grid_auto_rows": null,
            "grid_gap": null,
            "max_width": null,
            "order": null,
            "_view_module_version": "1.2.0",
            "grid_template_areas": null,
            "object_position": null,
            "object_fit": null,
            "grid_auto_columns": null,
            "margin": null,
            "display": null,
            "left": null
          }
        },
        "65809deb12e84200bc7633f7b92bc688": {
          "model_module": "@jupyter-widgets/controls",
          "model_name": "HBoxModel",
          "model_module_version": "1.5.0",
          "state": {
            "_view_name": "HBoxView",
            "_dom_classes": [],
            "_model_name": "HBoxModel",
            "_view_module": "@jupyter-widgets/controls",
            "_model_module_version": "1.5.0",
            "_view_count": null,
            "_view_module_version": "1.5.0",
            "box_style": "",
            "layout": "IPY_MODEL_2c806a2c71344319a7c2789c1f1cc41f",
            "_model_module": "@jupyter-widgets/controls",
            "children": [
              "IPY_MODEL_11936d7eed804c17ae18e6fd4530ad47",
              "IPY_MODEL_c863c57ceae042638cfa8e99023495c8"
            ]
          }
        },
        "2c806a2c71344319a7c2789c1f1cc41f": {
          "model_module": "@jupyter-widgets/base",
          "model_name": "LayoutModel",
          "model_module_version": "1.2.0",
          "state": {
            "_view_name": "LayoutView",
            "grid_template_rows": null,
            "right": null,
            "justify_content": null,
            "_view_module": "@jupyter-widgets/base",
            "overflow": null,
            "_model_module_version": "1.2.0",
            "_view_count": null,
            "flex_flow": null,
            "width": null,
            "min_width": null,
            "border": null,
            "align_items": null,
            "bottom": null,
            "_model_module": "@jupyter-widgets/base",
            "top": null,
            "grid_column": null,
            "overflow_y": null,
            "overflow_x": null,
            "grid_auto_flow": null,
            "grid_area": null,
            "grid_template_columns": null,
            "flex": null,
            "_model_name": "LayoutModel",
            "justify_items": null,
            "grid_row": null,
            "max_height": null,
            "align_content": null,
            "visibility": null,
            "align_self": null,
            "height": null,
            "min_height": null,
            "padding": null,
            "grid_auto_rows": null,
            "grid_gap": null,
            "max_width": null,
            "order": null,
            "_view_module_version": "1.2.0",
            "grid_template_areas": null,
            "object_position": null,
            "object_fit": null,
            "grid_auto_columns": null,
            "margin": null,
            "display": null,
            "left": null
          }
        },
        "11936d7eed804c17ae18e6fd4530ad47": {
          "model_module": "@jupyter-widgets/controls",
          "model_name": "FloatProgressModel",
          "model_module_version": "1.5.0",
          "state": {
            "_view_name": "ProgressView",
            "style": "IPY_MODEL_afe8d24dc0f544b3ada808c94c0c76db",
            "_dom_classes": [],
            "description": "Downloading: 100%",
            "_model_name": "FloatProgressModel",
            "bar_style": "success",
            "max": 536063208,
            "_view_module": "@jupyter-widgets/controls",
            "_model_module_version": "1.5.0",
            "value": 536063208,
            "_view_count": null,
            "_view_module_version": "1.5.0",
            "orientation": "horizontal",
            "min": 0,
            "description_tooltip": null,
            "_model_module": "@jupyter-widgets/controls",
            "layout": "IPY_MODEL_4c9313e4c780422f85f456fa0436604d"
          }
        },
        "c863c57ceae042638cfa8e99023495c8": {
          "model_module": "@jupyter-widgets/controls",
          "model_name": "HTMLModel",
          "model_module_version": "1.5.0",
          "state": {
            "_view_name": "HTMLView",
            "style": "IPY_MODEL_b9e96cfe43f4421ba281633aecdab288",
            "_dom_classes": [],
            "description": "",
            "_model_name": "HTMLModel",
            "placeholder": "​",
            "_view_module": "@jupyter-widgets/controls",
            "_model_module_version": "1.5.0",
            "value": " 536M/536M [00:15&lt;00:00, 34.2MB/s]",
            "_view_count": null,
            "_view_module_version": "1.5.0",
            "description_tooltip": null,
            "_model_module": "@jupyter-widgets/controls",
            "layout": "IPY_MODEL_fcf4b9ed6159410885bcac98a13e070f"
          }
        },
        "afe8d24dc0f544b3ada808c94c0c76db": {
          "model_module": "@jupyter-widgets/controls",
          "model_name": "ProgressStyleModel",
          "model_module_version": "1.5.0",
          "state": {
            "_view_name": "StyleView",
            "_model_name": "ProgressStyleModel",
            "description_width": "initial",
            "_view_module": "@jupyter-widgets/base",
            "_model_module_version": "1.5.0",
            "_view_count": null,
            "_view_module_version": "1.2.0",
            "bar_color": null,
            "_model_module": "@jupyter-widgets/controls"
          }
        },
        "4c9313e4c780422f85f456fa0436604d": {
          "model_module": "@jupyter-widgets/base",
          "model_name": "LayoutModel",
          "model_module_version": "1.2.0",
          "state": {
            "_view_name": "LayoutView",
            "grid_template_rows": null,
            "right": null,
            "justify_content": null,
            "_view_module": "@jupyter-widgets/base",
            "overflow": null,
            "_model_module_version": "1.2.0",
            "_view_count": null,
            "flex_flow": null,
            "width": null,
            "min_width": null,
            "border": null,
            "align_items": null,
            "bottom": null,
            "_model_module": "@jupyter-widgets/base",
            "top": null,
            "grid_column": null,
            "overflow_y": null,
            "overflow_x": null,
            "grid_auto_flow": null,
            "grid_area": null,
            "grid_template_columns": null,
            "flex": null,
            "_model_name": "LayoutModel",
            "justify_items": null,
            "grid_row": null,
            "max_height": null,
            "align_content": null,
            "visibility": null,
            "align_self": null,
            "height": null,
            "min_height": null,
            "padding": null,
            "grid_auto_rows": null,
            "grid_gap": null,
            "max_width": null,
            "order": null,
            "_view_module_version": "1.2.0",
            "grid_template_areas": null,
            "object_position": null,
            "object_fit": null,
            "grid_auto_columns": null,
            "margin": null,
            "display": null,
            "left": null
          }
        },
        "b9e96cfe43f4421ba281633aecdab288": {
          "model_module": "@jupyter-widgets/controls",
          "model_name": "DescriptionStyleModel",
          "model_module_version": "1.5.0",
          "state": {
            "_view_name": "StyleView",
            "_model_name": "DescriptionStyleModel",
            "description_width": "",
            "_view_module": "@jupyter-widgets/base",
            "_model_module_version": "1.5.0",
            "_view_count": null,
            "_view_module_version": "1.2.0",
            "_model_module": "@jupyter-widgets/controls"
          }
        },
        "fcf4b9ed6159410885bcac98a13e070f": {
          "model_module": "@jupyter-widgets/base",
          "model_name": "LayoutModel",
          "model_module_version": "1.2.0",
          "state": {
            "_view_name": "LayoutView",
            "grid_template_rows": null,
            "right": null,
            "justify_content": null,
            "_view_module": "@jupyter-widgets/base",
            "overflow": null,
            "_model_module_version": "1.2.0",
            "_view_count": null,
            "flex_flow": null,
            "width": null,
            "min_width": null,
            "border": null,
            "align_items": null,
            "bottom": null,
            "_model_module": "@jupyter-widgets/base",
            "top": null,
            "grid_column": null,
            "overflow_y": null,
            "overflow_x": null,
            "grid_auto_flow": null,
            "grid_area": null,
            "grid_template_columns": null,
            "flex": null,
            "_model_name": "LayoutModel",
            "justify_items": null,
            "grid_row": null,
            "max_height": null,
            "align_content": null,
            "visibility": null,
            "align_self": null,
            "height": null,
            "min_height": null,
            "padding": null,
            "grid_auto_rows": null,
            "grid_gap": null,
            "max_width": null,
            "order": null,
            "_view_module_version": "1.2.0",
            "grid_template_areas": null,
            "object_position": null,
            "object_fit": null,
            "grid_auto_columns": null,
            "margin": null,
            "display": null,
            "left": null
          }
        }
      }
    }
  },
  "cells": [
    {
      "cell_type": "code",
      "metadata": {
        "colab": {
          "base_uri": "https://localhost:8080/"
        },
        "id": "zdPgP28phRW7",
        "outputId": "5392fe07-8b52-478e-e8f7-62e464eb95ec"
      },
      "source": [
        "from google.colab import drive\n",
        "drive.mount('/content/gdrive')\n",
        "%cd /content/gdrive/MyDrive/bert"
      ],
      "execution_count": 1,
      "outputs": [
        {
          "output_type": "stream",
          "text": [
            "Mounted at /content/gdrive\n",
            "/content/gdrive/MyDrive/bert\n"
          ],
          "name": "stdout"
        }
      ]
    },
    {
      "cell_type": "code",
      "metadata": {
        "id": "0dKQpX1zNqgu"
      },
      "source": [
        "%%capture\n",
        "!pip install transformers"
      ],
      "execution_count": 3,
      "outputs": []
    },
    {
      "cell_type": "code",
      "metadata": {
        "id": "cz7_q4lZgCYS"
      },
      "source": [
        "import re\n",
        "import os\n",
        "\n",
        "import numpy as np\n",
        "import pandas as pd\n",
        "import torch\n",
        "from sklearn import metrics\n",
        "import matplotlib.pyplot as plt\n",
        "\n",
        "from transformers import BertTokenizer\n",
        "from sklearn.preprocessing import LabelEncoder\n",
        "\n",
        "import tensorflow as tf\n",
        "from tensorflow.keras.optimizers import Adam\n",
        "from transformers import TFBertModel\n",
        "\n",
        "from preprocess_data import read_dublin_data, read_sentiment_data\n",
        "from bert_model import bert_encode, create_model\n",
        "from evaluate import plot_learning_curves, evaluate_model"
      ],
      "execution_count": 4,
      "outputs": []
    },
    {
      "cell_type": "code",
      "metadata": {
        "id": "ezg1V1o9gizo"
      },
      "source": [
        "BATCH_SIZE = 32\n",
        "NEURONS_HIDDEN = 64\n",
        "LEARNING_RATE_MODEL = 1e-6\n",
        "EPOCHS = 10\n",
        "N_SAMPLE = 10000"
      ],
      "execution_count": 5,
      "outputs": []
    },
    {
      "cell_type": "code",
      "metadata": {
        "id": "FmVl-3in0W3S"
      },
      "source": [
        "%%capture\n",
        "tokenizer = BertTokenizer.from_pretrained('bert-large-uncased')"
      ],
      "execution_count": 6,
      "outputs": []
    },
    {
      "cell_type": "code",
      "metadata": {
        "id": "MONYngZTScvL",
        "colab": {
          "base_uri": "https://localhost:8080/"
        },
        "outputId": "3b6360dd-5f21-4dd6-b7db-3627c3e18d70"
      },
      "source": [
        "%%capture\n",
        "filename = \"/content/gdrive/MyDrive/bert/Sentiment140-train.csv\"\n",
        "df = read_sentiment_data(filename)\n",
        "df = df.sample(N_SAMPLE, random_state=1).reset_index(drop=True)\n",
        "\n",
        "le = LabelEncoder()\n",
        "le.fit(df['sentiment'])\n",
        "\n",
        "df['target_encoded'] = le.transform(df['sentiment'])\n",
        "\n",
        "texts = df['text']\n",
        "target_train = df['target_encoded']\n",
        "\n",
        "train_input_ids, train_attention_masks = bert_encode(texts, 128, tokenizer)"
      ],
      "execution_count": 7,
      "outputs": [
        {
          "output_type": "stream",
          "text": [
            "Truncation was not explicitly activated but `max_length` is provided a specific value, please use `truncation=True` to explicitly truncate examples to max length. Defaulting to 'longest_first' truncation strategy. If you encode pairs of sequences (GLUE-style) with the tokenizer you can select this strategy more precisely by providing a specific strategy to `truncation`.\n"
          ],
          "name": "stderr"
        }
      ]
    },
    {
      "cell_type": "code",
      "metadata": {
        "id": "8Syt6a-575td"
      },
      "source": [
        "%%capture\n",
        "filename = \"/content/gdrive/MyDrive/bert/Sentiment140-test.csv\"\n",
        "\n",
        "df_test = read_sentiment_data(filename)\n",
        "df_test['target_encoded'] = le.transform(df_test['sentiment'])\n",
        "\n",
        "texts = df_test['text']\n",
        "target_test = df_test['target_encoded']\n",
        "\n",
        "test_input_ids, test_attention_masks = bert_encode(texts, 128, tokenizer)\n"
      ],
      "execution_count": 8,
      "outputs": []
    },
    {
      "cell_type": "code",
      "metadata": {
        "id": "XtuQ8NZ1qiCC"
      },
      "source": [
        "%%capture\n",
        "filename = \"/content/gdrive/MyDrive/bert/citypulse.dublin_city_council.test.csv\"\n",
        "\n",
        "df_dublin = read_dublin_data(filename)\n",
        "\n",
        "df_dublin['target_encoded'] = le.transform(df_dublin['sentiment'])\n",
        "texts = df_dublin['text']\n",
        "target_dublin = df_dublin['target_encoded']\n",
        "\n",
        "dublin_input_ids, dublin_attention_masks = bert_encode(texts, 128, tokenizer)"
      ],
      "execution_count": 9,
      "outputs": []
    },
    {
      "cell_type": "code",
      "metadata": {
        "colab": {
          "base_uri": "https://localhost:8080/",
          "height": 228,
          "referenced_widgets": [
            "cfc8ca1bf58746c19a5da7757e640be9",
            "9354a01496b54306baf37bfab1766835",
            "f932e6bcd4ff4bfdba3d87d3ce386a8e",
            "6b157dd1688849f38954ac2b4abc65c6",
            "683e22a8bf63413a91f2ddbcaefb831b",
            "d902c1b0fd704dafb40b136b8c45e0be",
            "92830e9bcddb45c8aae580387227bf9e",
            "c4ef1eee293a43f0bef069703a43eaeb",
            "65809deb12e84200bc7633f7b92bc688",
            "2c806a2c71344319a7c2789c1f1cc41f",
            "11936d7eed804c17ae18e6fd4530ad47",
            "c863c57ceae042638cfa8e99023495c8",
            "afe8d24dc0f544b3ada808c94c0c76db",
            "4c9313e4c780422f85f456fa0436604d",
            "b9e96cfe43f4421ba281633aecdab288",
            "fcf4b9ed6159410885bcac98a13e070f"
          ]
        },
        "id": "7-ldqT5cospB",
        "outputId": "a03beb51-9485-42dd-b4a8-75f78a788a14"
      },
      "source": [
        "bert_model = TFBertModel.from_pretrained('bert-base-uncased')"
      ],
      "execution_count": 10,
      "outputs": [
        {
          "output_type": "display_data",
          "data": {
            "application/vnd.jupyter.widget-view+json": {
              "model_id": "cfc8ca1bf58746c19a5da7757e640be9",
              "version_minor": 0,
              "version_major": 2
            },
            "text/plain": [
              "HBox(children=(FloatProgress(value=0.0, description='Downloading', max=570.0, style=ProgressStyle(description_…"
            ]
          },
          "metadata": {
            "tags": []
          }
        },
        {
          "output_type": "stream",
          "text": [
            "\n"
          ],
          "name": "stdout"
        },
        {
          "output_type": "display_data",
          "data": {
            "application/vnd.jupyter.widget-view+json": {
              "model_id": "65809deb12e84200bc7633f7b92bc688",
              "version_minor": 0,
              "version_major": 2
            },
            "text/plain": [
              "HBox(children=(FloatProgress(value=0.0, description='Downloading', max=536063208.0, style=ProgressStyle(descri…"
            ]
          },
          "metadata": {
            "tags": []
          }
        },
        {
          "output_type": "stream",
          "text": [
            "\n"
          ],
          "name": "stdout"
        },
        {
          "output_type": "stream",
          "text": [
            "Some layers from the model checkpoint at bert-base-uncased were not used when initializing TFBertModel: ['mlm___cls', 'nsp___cls']\n",
            "- This IS expected if you are initializing TFBertModel from the checkpoint of a model trained on another task or with another architecture (e.g. initializing a BertForSequenceClassification model from a BertForPreTraining model).\n",
            "- This IS NOT expected if you are initializing TFBertModel from the checkpoint of a model that you expect to be exactly identical (initializing a BertForSequenceClassification model from a BertForSequenceClassification model).\n",
            "All the layers of TFBertModel were initialized from the model checkpoint at bert-base-uncased.\n",
            "If your task is similar to the task the model of the checkpoint was trained on, you can already use TFBertModel for predictions without further training.\n"
          ],
          "name": "stderr"
        }
      ]
    },
    {
      "cell_type": "code",
      "metadata": {
        "id": "dFNIp7jE0vam",
        "colab": {
          "base_uri": "https://localhost:8080/"
        },
        "outputId": "17450de1-0278-4178-de99-22cfe8d2efcc"
      },
      "source": [
        "model = create_model(bert_model, LEARNING_RATE_MODEL, NEURONS_HIDDEN)"
      ],
      "execution_count": 11,
      "outputs": [
        {
          "output_type": "stream",
          "text": [
            "WARNING:tensorflow:The parameters `output_attentions`, `output_hidden_states` and `use_cache` cannot be updated when calling a model.They have to be set to True/False in the config object (i.e.: `config=XConfig.from_pretrained('name', output_attentions=True)`).\n",
            "WARNING:tensorflow:AutoGraph could not transform <bound method Socket.send of <zmq.sugar.socket.Socket object at 0x7f35dbeedd70>> and will run it as-is.\n",
            "Please report this to the TensorFlow team. When filing the bug, set the verbosity to 10 (on Linux, `export AUTOGRAPH_VERBOSITY=10`) and attach the full output.\n",
            "Cause: module, class, method, function, traceback, frame, or code object was expected, got cython_function_or_method\n",
            "To silence this warning, decorate the function with @tf.autograph.experimental.do_not_convert\n",
            "WARNING: AutoGraph could not transform <bound method Socket.send of <zmq.sugar.socket.Socket object at 0x7f35dbeedd70>> and will run it as-is.\n",
            "Please report this to the TensorFlow team. When filing the bug, set the verbosity to 10 (on Linux, `export AUTOGRAPH_VERBOSITY=10`) and attach the full output.\n",
            "Cause: module, class, method, function, traceback, frame, or code object was expected, got cython_function_or_method\n",
            "To silence this warning, decorate the function with @tf.autograph.experimental.do_not_convert\n",
            "WARNING:tensorflow:AutoGraph could not transform <function wrap at 0x7f35f70a0170> and will run it as-is.\n",
            "Cause: while/else statement not yet supported\n",
            "To silence this warning, decorate the function with @tf.autograph.experimental.do_not_convert\n",
            "WARNING: AutoGraph could not transform <function wrap at 0x7f35f70a0170> and will run it as-is.\n",
            "Cause: while/else statement not yet supported\n",
            "To silence this warning, decorate the function with @tf.autograph.experimental.do_not_convertWARNING:tensorflow:The parameter `return_dict` cannot be set in graph mode and will always be set to `True`.\n",
            "\n",
            "WARNING:tensorflow:From /usr/local/lib/python3.7/dist-packages/tensorflow/python/ops/array_ops.py:5049: calling gather (from tensorflow.python.ops.array_ops) with validate_indices is deprecated and will be removed in a future version.\n",
            "Instructions for updating:\n",
            "The `validate_indices` argument has no effect. Indices are always validated on CPU and never validated on GPU.\n"
          ],
          "name": "stdout"
        },
        {
          "output_type": "stream",
          "text": [
            "/usr/local/lib/python3.7/dist-packages/tensorflow/python/keras/optimizer_v2/optimizer_v2.py:375: UserWarning: The `lr` argument is deprecated, use `learning_rate` instead.\n",
            "  \"The `lr` argument is deprecated, use `learning_rate` instead.\")\n"
          ],
          "name": "stderr"
        }
      ]
    },
    {
      "cell_type": "code",
      "metadata": {
        "colab": {
          "base_uri": "https://localhost:8080/"
        },
        "id": "0FvmWsnmovdR",
        "outputId": "038425aa-5b28-4a94-d505-d404d2caa5aa"
      },
      "source": [
        "model.summary()"
      ],
      "execution_count": 12,
      "outputs": [
        {
          "output_type": "stream",
          "text": [
            "Model: \"model\"\n",
            "__________________________________________________________________________________________________\n",
            "Layer (type)                    Output Shape         Param #     Connected to                     \n",
            "==================================================================================================\n",
            "input_1 (InputLayer)            [(None, 128)]        0                                            \n",
            "__________________________________________________________________________________________________\n",
            "input_2 (InputLayer)            [(None, 128)]        0                                            \n",
            "__________________________________________________________________________________________________\n",
            "tf_bert_model (TFBertModel)     TFBaseModelOutputWit 109482240   input_1[0][0]                    \n",
            "                                                                 input_2[0][0]                    \n",
            "__________________________________________________________________________________________________\n",
            "dense (Dense)                   (None, 64)           49216       tf_bert_model[0][1]              \n",
            "__________________________________________________________________________________________________\n",
            "dropout_37 (Dropout)            (None, 64)           0           dense[0][0]                      \n",
            "__________________________________________________________________________________________________\n",
            "dense_1 (Dense)                 (None, 1)            65          dropout_37[0][0]                 \n",
            "==================================================================================================\n",
            "Total params: 109,531,521\n",
            "Trainable params: 109,531,521\n",
            "Non-trainable params: 0\n",
            "__________________________________________________________________________________________________\n"
          ],
          "name": "stdout"
        }
      ]
    },
    {
      "cell_type": "code",
      "metadata": {
        "colab": {
          "base_uri": "https://localhost:8080/"
        },
        "id": "1q1STTEJoxDx",
        "outputId": "6453b3cc-a964-495f-9540-c4a8c87eefab"
      },
      "source": [
        "history = model.fit(\n",
        "    [train_input_ids, train_attention_masks],\n",
        "    target_train,\n",
        "    validation_split=0.2, \n",
        "    epochs=EPOCHS,\n",
        "    batch_size=BATCH_SIZE\n",
        ")"
      ],
      "execution_count": 13,
      "outputs": [
        {
          "output_type": "stream",
          "text": [
            "Epoch 1/10\n",
            "WARNING:tensorflow:The parameters `output_attentions`, `output_hidden_states` and `use_cache` cannot be updated when calling a model.They have to be set to True/False in the config object (i.e.: `config=XConfig.from_pretrained('name', output_attentions=True)`).\n",
            "WARNING:tensorflow:The parameter `return_dict` cannot be set in graph mode and will always be set to `True`.\n",
            "WARNING:tensorflow:The parameters `output_attentions`, `output_hidden_states` and `use_cache` cannot be updated when calling a model.They have to be set to True/False in the config object (i.e.: `config=XConfig.from_pretrained('name', output_attentions=True)`).\n",
            "WARNING:tensorflow:The parameter `return_dict` cannot be set in graph mode and will always be set to `True`.\n",
            "250/250 [==============================] - ETA: 0s - loss: 0.6835 - accuracy: 0.5624WARNING:tensorflow:The parameters `output_attentions`, `output_hidden_states` and `use_cache` cannot be updated when calling a model.They have to be set to True/False in the config object (i.e.: `config=XConfig.from_pretrained('name', output_attentions=True)`).\n",
            "WARNING:tensorflow:The parameter `return_dict` cannot be set in graph mode and will always be set to `True`.\n",
            "250/250 [==============================] - 218s 839ms/step - loss: 0.6835 - accuracy: 0.5624 - val_loss: 0.6348 - val_accuracy: 0.6835\n",
            "Epoch 2/10\n",
            "250/250 [==============================] - 210s 842ms/step - loss: 0.6144 - accuracy: 0.6710 - val_loss: 0.5202 - val_accuracy: 0.7650\n",
            "Epoch 3/10\n",
            "250/250 [==============================] - 210s 842ms/step - loss: 0.5144 - accuracy: 0.7635 - val_loss: 0.4512 - val_accuracy: 0.7990\n",
            "Epoch 4/10\n",
            "250/250 [==============================] - 207s 829ms/step - loss: 0.4712 - accuracy: 0.7894 - val_loss: 0.4338 - val_accuracy: 0.8085\n",
            "Epoch 5/10\n",
            "250/250 [==============================] - 209s 836ms/step - loss: 0.4480 - accuracy: 0.8054 - val_loss: 0.4217 - val_accuracy: 0.8135\n",
            "Epoch 6/10\n",
            "250/250 [==============================] - 211s 842ms/step - loss: 0.4167 - accuracy: 0.8202 - val_loss: 0.4158 - val_accuracy: 0.8175\n",
            "Epoch 7/10\n",
            "250/250 [==============================] - 209s 835ms/step - loss: 0.4020 - accuracy: 0.8286 - val_loss: 0.4144 - val_accuracy: 0.8165\n",
            "Epoch 8/10\n",
            "250/250 [==============================] - 206s 825ms/step - loss: 0.3875 - accuracy: 0.8379 - val_loss: 0.4152 - val_accuracy: 0.8180\n",
            "Epoch 9/10\n",
            "250/250 [==============================] - 211s 842ms/step - loss: 0.3712 - accuracy: 0.8472 - val_loss: 0.4139 - val_accuracy: 0.8195\n",
            "Epoch 10/10\n",
            "250/250 [==============================] - 209s 836ms/step - loss: 0.3587 - accuracy: 0.8530 - val_loss: 0.4122 - val_accuracy: 0.8220\n"
          ],
          "name": "stdout"
        }
      ]
    },
    {
      "cell_type": "code",
      "metadata": {
        "colab": {
          "base_uri": "https://localhost:8080/",
          "height": 357
        },
        "id": "vvuH_VQBoyvy",
        "outputId": "a04c532c-8931-47cd-ef2c-f4f6933860cb"
      },
      "source": [
        "plot_learning_curves(history, [['loss', 'val_loss'],['accuracy', 'val_accuracy']])"
      ],
      "execution_count": 14,
      "outputs": [
        {
          "output_type": "display_data",
          "data": {
            "image/png": "[encoded data removed]",
            "text/plain": [
              "<Figure size 1440x360 with 2 Axes>"
            ]
          },
          "metadata": {
            "tags": [],
            "needs_background": "light"
          }
        }
      ]
    },
    {
      "cell_type": "code",
      "metadata": {
        "colab": {
          "base_uri": "https://localhost:8080/"
        },
        "id": "50Ie0Gg028gT",
        "outputId": "b4991837-05cb-4c7f-e522-911ac4b4ab83"
      },
      "source": [
        "predictions_test = model.predict([test_input_ids, test_attention_masks])\n",
        "predictions_test_class = [i.round() for i in predictions_test]\n",
        "\n",
        "y_pred_bi = np.array(predictions_test_class)\n",
        "y_hat_bi = np.array(df_test['sentiment'])\n",
        "evaluate_model(y_hat_bi, y_pred_bi)"
      ],
      "execution_count": 15,
      "outputs": [
        {
          "output_type": "stream",
          "text": [
            "WARNING:tensorflow:The parameters `output_attentions`, `output_hidden_states` and `use_cache` cannot be updated when calling a model.They have to be set to True/False in the config object (i.e.: `config=XConfig.from_pretrained('name', output_attentions=True)`).\n",
            "WARNING:tensorflow:The parameter `return_dict` cannot be set in graph mode and will always be set to `True`.\n",
            "[[153  24]\n",
            " [ 26 156]]\n",
            "              precision    recall  f1-score   support\n",
            "\n",
            "           0       0.85      0.86      0.86       177\n",
            "           1       0.87      0.86      0.86       182\n",
            "\n",
            "    accuracy                           0.86       359\n",
            "   macro avg       0.86      0.86      0.86       359\n",
            "weighted avg       0.86      0.86      0.86       359\n",
            "\n",
            "Accuracy Score: 0.861\n"
          ],
          "name": "stdout"
        }
      ]
    },
    {
      "cell_type": "code",
      "metadata": {
        "colab": {
          "base_uri": "https://localhost:8080/"
        },
        "id": "c4u_uIT94Pnx",
        "outputId": "8b0b04ee-dcac-45df-965d-27207d94ddb5"
      },
      "source": [
        "predictions_dublin = model.predict([dublin_input_ids, dublin_attention_masks])\n",
        "predictions_dublin_class = [i.round() for i in predictions_dublin]\n",
        "df_dublin['sentiment_pred'] = predictions_dublin_class\n",
        "\n",
        "y_pred_bi = np.array(predictions_dublin_class)\n",
        "y_hat_bi = np.array(df_dublin['sentiment'])\n",
        "evaluate_model(y_hat_bi, y_pred_bi)"
      ],
      "execution_count": 20,
      "outputs": [
        {
          "output_type": "stream",
          "text": [
            "[[762 238]\n",
            " [379 621]]\n",
            "              precision    recall  f1-score   support\n",
            "\n",
            "           0       0.67      0.76      0.71      1000\n",
            "           1       0.72      0.62      0.67      1000\n",
            "\n",
            "    accuracy                           0.69      2000\n",
            "   macro avg       0.70      0.69      0.69      2000\n",
            "weighted avg       0.70      0.69      0.69      2000\n",
            "\n",
            "Accuracy Score: 0.692\n"
          ],
          "name": "stdout"
        }
      ]
    },
    {
      "cell_type": "code",
      "metadata": {
        "colab": {
          "base_uri": "https://localhost:8080/"
        },
        "id": "E1F0PiOHHW9P",
        "outputId": "e556c2af-9bbf-4c09-a833-11db9fb510dd"
      },
      "source": [
        "predictions_train = model.predict([train_input_ids, train_attention_masks])\n",
        "predictions_train_class = [i.round() for i in predictions_train]\n",
        "\n",
        "y_pred_bi = np.array(predictions_train_class)\n",
        "y_hat_bi = np.array(df['sentiment'])\n",
        "evaluate_model(y_hat_bi, y_pred_bi)"
      ],
      "execution_count": 17,
      "outputs": [
        {
          "output_type": "stream",
          "text": [
            "[[4427  576]\n",
            " [ 682 4315]]\n",
            "              precision    recall  f1-score   support\n",
            "\n",
            "           0       0.87      0.88      0.88      5003\n",
            "           1       0.88      0.86      0.87      4997\n",
            "\n",
            "    accuracy                           0.87     10000\n",
            "   macro avg       0.87      0.87      0.87     10000\n",
            "weighted avg       0.87      0.87      0.87     10000\n",
            "\n",
            "Accuracy Score: 0.874\n"
          ],
          "name": "stdout"
        }
      ]
    },
    {
      "cell_type": "code",
      "metadata": {
        "id": "Hap7x6N7XiPj"
      },
      "source": [
        "df_dublin['sentiment_pred'] = df_dublin['sentiment_pred'].apply(lambda x: x[0])"
      ],
      "execution_count": 24,
      "outputs": []
    },
    {
      "cell_type": "code",
      "metadata": {
        "id": "nQVg_GTEBP7S",
        "colab": {
          "base_uri": "https://localhost:8080/"
        },
        "outputId": "ee5ed87a-b7eb-4b92-c2d3-f74ddeab3a13"
      },
      "source": [
        "for category in df_dublin['category'].unique():\n",
        "    print(category)\n",
        "    y_hat = df_dublin.loc[(df_dublin['sentiment']!=-1) & (df_dublin['category']!=category), \"sentiment\"]\n",
        "    y_pred = df_dublin.loc[(df_dublin['sentiment']!=-1) & (df_dublin['category']!=category), \"sentiment_pred\"]\n",
        "    evaluate_model(y_hat, y_pred)"
      ],
      "execution_count": 25,
      "outputs": [
        {
          "output_type": "stream",
          "text": [
            "Public Spaces\n",
            "[[751 236]\n",
            " [379 613]]\n",
            "              precision    recall  f1-score   support\n",
            "\n",
            "           0       0.66      0.76      0.71       987\n",
            "           1       0.72      0.62      0.67       992\n",
            "\n",
            "    accuracy                           0.69      1979\n",
            "   macro avg       0.69      0.69      0.69      1979\n",
            "weighted avg       0.69      0.69      0.69      1979\n",
            "\n",
            "Accuracy Score: 0.689\n",
            "Community and Culture\n",
            "[[674 184]\n",
            " [334 380]]\n",
            "              precision    recall  f1-score   support\n",
            "\n",
            "           0       0.67      0.79      0.72       858\n",
            "           1       0.67      0.53      0.59       714\n",
            "\n",
            "    accuracy                           0.67      1572\n",
            "   macro avg       0.67      0.66      0.66      1572\n",
            "weighted avg       0.67      0.67      0.66      1572\n",
            "\n",
            "Accuracy Score: 0.670\n",
            "Mobility\n",
            "[[569 172]\n",
            " [288 527]]\n",
            "              precision    recall  f1-score   support\n",
            "\n",
            "           0       0.66      0.77      0.71       741\n",
            "           1       0.75      0.65      0.70       815\n",
            "\n",
            "    accuracy                           0.70      1556\n",
            "   macro avg       0.71      0.71      0.70      1556\n",
            "weighted avg       0.71      0.70      0.70      1556\n",
            "\n",
            "Accuracy Score: 0.704\n",
            "Poverty and Homelessness\n",
            "[[674 223]\n",
            " [351 600]]\n",
            "              precision    recall  f1-score   support\n",
            "\n",
            "           0       0.66      0.75      0.70       897\n",
            "           1       0.73      0.63      0.68       951\n",
            "\n",
            "    accuracy                           0.69      1848\n",
            "   macro avg       0.69      0.69      0.69      1848\n",
            "weighted avg       0.69      0.69      0.69      1848\n",
            "\n",
            "Accuracy Score: 0.689\n",
            "Safety\n",
            "[[690 215]\n",
            " [338 588]]\n",
            "              precision    recall  f1-score   support\n",
            "\n",
            "           0       0.67      0.76      0.71       905\n",
            "           1       0.73      0.63      0.68       926\n",
            "\n",
            "    accuracy                           0.70      1831\n",
            "   macro avg       0.70      0.70      0.70      1831\n",
            "weighted avg       0.70      0.70      0.70      1831\n",
            "\n",
            "Accuracy Score: 0.698\n",
            "Tourism and Hospitality\n",
            "[[736 225]\n",
            " [368 585]]\n",
            "              precision    recall  f1-score   support\n",
            "\n",
            "           0       0.67      0.77      0.71       961\n",
            "           1       0.72      0.61      0.66       953\n",
            "\n",
            "    accuracy                           0.69      1914\n",
            "   macro avg       0.69      0.69      0.69      1914\n",
            "weighted avg       0.69      0.69      0.69      1914\n",
            "\n",
            "Accuracy Score: 0.690\n",
            "Utilities\n",
            "[[746 234]\n",
            " [369 618]]\n",
            "              precision    recall  f1-score   support\n",
            "\n",
            "           0       0.67      0.76      0.71       980\n",
            "           1       0.73      0.63      0.67       987\n",
            "\n",
            "    accuracy                           0.69      1967\n",
            "   macro avg       0.70      0.69      0.69      1967\n",
            "weighted avg       0.70      0.69      0.69      1967\n",
            "\n",
            "Accuracy Score: 0.693\n",
            "Governance\n",
            "[[715 223]\n",
            " [356 606]]\n",
            "              precision    recall  f1-score   support\n",
            "\n",
            "           0       0.67      0.76      0.71       938\n",
            "           1       0.73      0.63      0.68       962\n",
            "\n",
            "    accuracy                           0.70      1900\n",
            "   macro avg       0.70      0.70      0.69      1900\n",
            "weighted avg       0.70      0.70      0.69      1900\n",
            "\n",
            "Accuracy Score: 0.695\n",
            "Housing\n",
            "[[691 230]\n",
            " [325 586]]\n",
            "              precision    recall  f1-score   support\n",
            "\n",
            "           0       0.68      0.75      0.71       921\n",
            "           1       0.72      0.64      0.68       911\n",
            "\n",
            "    accuracy                           0.70      1832\n",
            "   macro avg       0.70      0.70      0.70      1832\n",
            "weighted avg       0.70      0.70      0.70      1832\n",
            "\n",
            "Accuracy Score: 0.697\n",
            "Education\n",
            "[[751 235]\n",
            " [377 589]]\n",
            "              precision    recall  f1-score   support\n",
            "\n",
            "           0       0.67      0.76      0.71       986\n",
            "           1       0.71      0.61      0.66       966\n",
            "\n",
            "    accuracy                           0.69      1952\n",
            "   macro avg       0.69      0.69      0.68      1952\n",
            "weighted avg       0.69      0.69      0.68      1952\n",
            "\n",
            "Accuracy Score: 0.686\n",
            "Environment\n",
            "[[717 223]\n",
            " [350 573]]\n",
            "              precision    recall  f1-score   support\n",
            "\n",
            "           0       0.67      0.76      0.71       940\n",
            "           1       0.72      0.62      0.67       923\n",
            "\n",
            "    accuracy                           0.69      1863\n",
            "   macro avg       0.70      0.69      0.69      1863\n",
            "weighted avg       0.70      0.69      0.69      1863\n",
            "\n",
            "Accuracy Score: 0.692\n",
            "Infrastructure\n",
            "[[708 232]\n",
            " [355 599]]\n",
            "              precision    recall  f1-score   support\n",
            "\n",
            "           0       0.67      0.75      0.71       940\n",
            "           1       0.72      0.63      0.67       954\n",
            "\n",
            "    accuracy                           0.69      1894\n",
            "   macro avg       0.69      0.69      0.69      1894\n",
            "weighted avg       0.69      0.69      0.69      1894\n",
            "\n",
            "Accuracy Score: 0.690\n",
            "Economic Development\n",
            "[[752 233]\n",
            " [366 609]]\n",
            "              precision    recall  f1-score   support\n",
            "\n",
            "           0       0.67      0.76      0.72       985\n",
            "           1       0.72      0.62      0.67       975\n",
            "\n",
            "    accuracy                           0.69      1960\n",
            "   macro avg       0.70      0.69      0.69      1960\n",
            "weighted avg       0.70      0.69      0.69      1960\n",
            "\n",
            "Accuracy Score: 0.694\n",
            "Health\n",
            "[[755 237]\n",
            " [375 618]]\n",
            "              precision    recall  f1-score   support\n",
            "\n",
            "           0       0.67      0.76      0.71       992\n",
            "           1       0.72      0.62      0.67       993\n",
            "\n",
            "    accuracy                           0.69      1985\n",
            "   macro avg       0.70      0.69      0.69      1985\n",
            "weighted avg       0.70      0.69      0.69      1985\n",
            "\n",
            "Accuracy Score: 0.692\n",
            "Social Inclusion\n",
            "[[739 230]\n",
            " [375 603]]\n",
            "              precision    recall  f1-score   support\n",
            "\n",
            "           0       0.66      0.76      0.71       969\n",
            "           1       0.72      0.62      0.67       978\n",
            "\n",
            "    accuracy                           0.69      1947\n",
            "   macro avg       0.69      0.69      0.69      1947\n",
            "weighted avg       0.69      0.69      0.69      1947\n",
            "\n",
            "Accuracy Score: 0.689\n"
          ],
          "name": "stdout"
        }
      ]
    },
    {
      "cell_type": "code",
      "metadata": {
        "id": "LGA1N8FYXTjN"
      },
      "source": [
        ""
      ],
      "execution_count": null,
      "outputs": []
    }
  ]
}