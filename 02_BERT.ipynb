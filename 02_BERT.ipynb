{
  "nbformat": 4,
  "nbformat_minor": 0,
  "metadata": {
    "accelerator": "GPU",
    "colab": {
      "name": "BERT_sentiment_analysis.ipynb",
      "provenance": [],
      "collapsed_sections": []
    },
    "kernelspec": {
      "display_name": "Python 3",
      "name": "python3"
    },
    "language_info": {
      "name": "python"
    }
  },
  "cells": [
    {
      "cell_type": "markdown",
      "metadata": {
        "id": "DKrPC570YQvO"
      },
      "source": [
        "# Summary\n",
        "> ## TODO\n",
        "> ### DATA\n",
        "1.   Analyze in detail model errors on dublin dataset\n",
        "2.   Find a better dataset to fine tune BERT\n",
        "\n",
        "> ### MODEL\n",
        "1.   Try novel architectures like GPT3\n",
        "2.   Train with complete dataset\n",
        "3.   Add early stopping in training\n",
        "\n",
        "> ### SOFTWARE\n",
        "1.   Define a requirement with libraries versions to version problem. Ideally, create a docker file to solve operative system incompatibilities.\n",
        "2.   Create technical and functional documentation.\n",
        "3.   Create a file with parameters.\n",
        "4.   Create unit testing of functions.\n",
        "5.   Add Logger class."
      ]
    },
    {
      "cell_type": "code",
      "metadata": {
        "colab": {
          "base_uri": "https://localhost:8080/"
        },
        "id": "zdPgP28phRW7",
        "outputId": "6dca381e-08df-4cc5-cb4a-95e572aa502c"
      },
      "source": [
        "from google.colab import drive\n",
        "drive.mount('/content/gdrive')"
      ],
      "execution_count": null,
      "outputs": [
        {
          "output_type": "stream",
          "text": [
            "Drive already mounted at /content/gdrive; to attempt to forcibly remount, call drive.mount(\"/content/gdrive\", force_remount=True).\n"
          ],
          "name": "stdout"
        }
      ]
    },
    {
      "cell_type": "code",
      "metadata": {
        "colab": {
          "base_uri": "https://localhost:8080/"
        },
        "id": "DjjQ2LO1zD8y",
        "outputId": "33786c29-95a0-4ef9-8745-7f1ebd16c699"
      },
      "source": [
        "%cd /content/gdrive/MyDrive/bert"
      ],
      "execution_count": null,
      "outputs": [
        {
          "output_type": "stream",
          "text": [
            "/content/gdrive/MyDrive/bert\n"
          ],
          "name": "stdout"
        }
      ]
    },
    {
      "cell_type": "code",
      "metadata": {
        "id": "UyLt-gvaf9s5"
      },
      "source": [
        "%%capture\n",
        "!git clone https://github.com/vonsovsky/bert-sentiment.git\n",
        "!pip install transformers"
      ],
      "execution_count": null,
      "outputs": []
    },
    {
      "cell_type": "code",
      "metadata": {
        "id": "cz7_q4lZgCYS"
      },
      "source": [
        "import re\n",
        "import os\n",
        "\n",
        "import numpy as np\n",
        "import pandas as pd\n",
        "import torch\n",
        "from sklearn import metrics\n",
        "import matplotlib.pyplot as plt\n",
        "\n",
        "from transformers import BertTokenizer\n",
        "from sklearn.preprocessing import LabelEncoder\n",
        "\n",
        "import tensorflow as tf\n",
        "from tensorflow.keras.optimizers import Adam\n",
        "from transformers import TFBertModel\n",
        "\n",
        "from preprocess_data import read_dublin_data, read_sentiment_data\n",
        "from bert_model import bert_encode, create_model\n",
        "from evaluate import plot_learning_curves, evaluate_model"
      ],
      "execution_count": null,
      "outputs": []
    },
    {
      "cell_type": "code",
      "metadata": {
        "id": "ezg1V1o9gizo"
      },
      "source": [
        "BATCH_SIZE = 32\n",
        "NEURONS_HIDDEN = 64\n",
        "LEARNING_RATE_MODEL = 1e-6\n",
        "EPOCHS = 10\n",
        "N_SAMPLE = 10000"
      ],
      "execution_count": null,
      "outputs": []
    },
    {
      "cell_type": "code",
      "metadata": {
        "id": "FmVl-3in0W3S"
      },
      "source": [
        "%%capture\n",
        "tokenizer = BertTokenizer.from_pretrained('bert-large-uncased')"
      ],
      "execution_count": null,
      "outputs": []
    },
    {
      "cell_type": "code",
      "metadata": {
        "id": "MONYngZTScvL",
        "colab": {
          "base_uri": "https://localhost:8080/"
        },
        "outputId": "a24263df-ff2c-419d-fd8c-1847b8267350"
      },
      "source": [
        "%%capture\n",
        "filename = \"/content/gdrive/MyDrive/bert/Sentiment140-train.csv\"\n",
        "df = read_sentiment_data(filename)\n",
        "df = df.sample(N_SAMPLE, random_state=1).reset_index(drop=True)\n",
        "\n",
        "le = LabelEncoder()\n",
        "le.fit(df['sentiment'])\n",
        "\n",
        "df['target_encoded'] = le.transform(df['sentiment'])\n",
        "\n",
        "texts = df['text']\n",
        "target_train = df['target_encoded']\n",
        "\n",
        "train_input_ids, train_attention_masks = bert_encode(texts, 128, tokenizer)"
      ],
      "execution_count": null,
      "outputs": [
        {
          "output_type": "stream",
          "text": [
            "Truncation was not explicitly activated but `max_length` is provided a specific value, please use `truncation=True` to explicitly truncate examples to max length. Defaulting to 'longest_first' truncation strategy. If you encode pairs of sequences (GLUE-style) with the tokenizer you can select this strategy more precisely by providing a specific strategy to `truncation`.\n"
          ],
          "name": "stderr"
        }
      ]
    },
    {
      "cell_type": "code",
      "metadata": {
        "id": "8Syt6a-575td"
      },
      "source": [
        "%%capture\n",
        "filename = \"/content/gdrive/MyDrive/bert/Sentiment140-test.csv\"\n",
        "\n",
        "df_test = read_sentiment_data(filename)\n",
        "df_test['target_encoded'] = le.transform(df_test['sentiment'])\n",
        "\n",
        "texts = df_test['text']\n",
        "target_test = df_test['target_encoded']\n",
        "\n",
        "test_input_ids, test_attention_masks = bert_encode(texts, 128, tokenizer)\n"
      ],
      "execution_count": null,
      "outputs": []
    },
    {
      "cell_type": "code",
      "metadata": {
        "id": "XtuQ8NZ1qiCC"
      },
      "source": [
        "%%capture\n",
        "filename = \"/content/gdrive/MyDrive/bert/citypulse.dublin_city_council.test.csv\"\n",
        "\n",
        "df_dublin = read_dublin_data(filename)\n",
        "\n",
        "df_dublin['target_encoded'] = le.transform(df_dublin['sentiment'])\n",
        "texts = df_dublin['text']\n",
        "target_dublin = df_dublin['target_encoded']\n",
        "\n",
        "dublin_input_ids, dublin_attention_masks = bert_encode(texts, 128, tokenizer)"
      ],
      "execution_count": null,
      "outputs": []
    },
    {
      "cell_type": "code",
      "metadata": {
        "colab": {
          "base_uri": "https://localhost:8080/"
        },
        "id": "7-ldqT5cospB",
        "outputId": "f4149e02-1db0-4d27-dfdd-03285c6d174b"
      },
      "source": [
        "bert_model = TFBertModel.from_pretrained('bert-base-uncased')"
      ],
      "execution_count": null,
      "outputs": [
        {
          "output_type": "stream",
          "text": [
            "Some layers from the model checkpoint at bert-base-uncased were not used when initializing TFBertModel: ['nsp___cls', 'mlm___cls']\n",
            "- This IS expected if you are initializing TFBertModel from the checkpoint of a model trained on another task or with another architecture (e.g. initializing a BertForSequenceClassification model from a BertForPreTraining model).\n",
            "- This IS NOT expected if you are initializing TFBertModel from the checkpoint of a model that you expect to be exactly identical (initializing a BertForSequenceClassification model from a BertForSequenceClassification model).\n",
            "All the layers of TFBertModel were initialized from the model checkpoint at bert-base-uncased.\n",
            "If your task is similar to the task the model of the checkpoint was trained on, you can already use TFBertModel for predictions without further training.\n"
          ],
          "name": "stderr"
        }
      ]
    },
    {
      "cell_type": "code",
      "metadata": {
        "id": "dFNIp7jE0vam",
        "colab": {
          "base_uri": "https://localhost:8080/"
        },
        "outputId": "5529825c-2005-4151-9b6e-4da7ca1037c9"
      },
      "source": [
        "model = create_model(bert_model, LEARNING_RATE_MODEL, NEURONS_HIDDEN)"
      ],
      "execution_count": null,
      "outputs": [
        {
          "output_type": "stream",
          "text": [
            "WARNING:tensorflow:The parameters `output_attentions`, `output_hidden_states` and `use_cache` cannot be updated when calling a model.They have to be set to True/False in the config object (i.e.: `config=XConfig.from_pretrained('name', output_attentions=True)`).\n",
            "WARNING:tensorflow:AutoGraph could not transform <bound method Socket.send of <zmq.sugar.socket.Socket object at 0x7fc9f0396d70>> and will run it as-is.\n",
            "Please report this to the TensorFlow team. When filing the bug, set the verbosity to 10 (on Linux, `export AUTOGRAPH_VERBOSITY=10`) and attach the full output.\n",
            "Cause: module, class, method, function, traceback, frame, or code object was expected, got cython_function_or_method\n",
            "To silence this warning, decorate the function with @tf.autograph.experimental.do_not_convert\n",
            "WARNING: AutoGraph could not transform <bound method Socket.send of <zmq.sugar.socket.Socket object at 0x7fc9f0396d70>> and will run it as-is.\n",
            "Please report this to the TensorFlow team. When filing the bug, set the verbosity to 10 (on Linux, `export AUTOGRAPH_VERBOSITY=10`) and attach the full output.\n",
            "Cause: module, class, method, function, traceback, frame, or code object was expected, got cython_function_or_method\n",
            "To silence this warning, decorate the function with @tf.autograph.experimental.do_not_convert\n",
            "WARNING:tensorflow:AutoGraph could not transform <function wrap at 0x7fca0b548170> and will run it as-is.\n",
            "Cause: while/else statement not yet supported\n",
            "To silence this warning, decorate the function with @tf.autograph.experimental.do_not_convert\n",
            "WARNING: AutoGraph could not transform <function wrap at 0x7fca0b548170> and will run it as-is.\n",
            "Cause: while/else statement not yet supported\n",
            "To silence this warning, decorate the function with @tf.autograph.experimental.do_not_convert\n",
            "WARNING:tensorflow:The parameter `return_dict` cannot be set in graph mode and will always be set to `True`.\n",
            "WARNING:tensorflow:From /usr/local/lib/python3.7/dist-packages/tensorflow/python/ops/array_ops.py:5049: calling gather (from tensorflow.python.ops.array_ops) with validate_indices is deprecated and will be removed in a future version.\n",
            "Instructions for updating:\n",
            "The `validate_indices` argument has no effect. Indices are always validated on CPU and never validated on GPU.\n"
          ],
          "name": "stdout"
        },
        {
          "output_type": "stream",
          "text": [
            "/usr/local/lib/python3.7/dist-packages/tensorflow/python/keras/optimizer_v2/optimizer_v2.py:375: UserWarning: The `lr` argument is deprecated, use `learning_rate` instead.\n",
            "  \"The `lr` argument is deprecated, use `learning_rate` instead.\")\n"
          ],
          "name": "stderr"
        }
      ]
    },
    {
      "cell_type": "code",
      "metadata": {
        "colab": {
          "base_uri": "https://localhost:8080/"
        },
        "id": "0FvmWsnmovdR",
        "outputId": "c103b42e-2e0d-4e6c-83f7-5a4737524cf9"
      },
      "source": [
        "model.summary()"
      ],
      "execution_count": null,
      "outputs": [
        {
          "output_type": "stream",
          "text": [
            "Model: \"model\"\n",
            "__________________________________________________________________________________________________\n",
            "Layer (type)                    Output Shape         Param #     Connected to                     \n",
            "==================================================================================================\n",
            "input_1 (InputLayer)            [(None, 128)]        0                                            \n",
            "__________________________________________________________________________________________________\n",
            "input_2 (InputLayer)            [(None, 128)]        0                                            \n",
            "__________________________________________________________________________________________________\n",
            "tf_bert_model (TFBertModel)     TFBaseModelOutputWit 109482240   input_1[0][0]                    \n",
            "                                                                 input_2[0][0]                    \n",
            "__________________________________________________________________________________________________\n",
            "dense (Dense)                   (None, 64)           49216       tf_bert_model[0][1]              \n",
            "__________________________________________________________________________________________________\n",
            "dropout_37 (Dropout)            (None, 64)           0           dense[0][0]                      \n",
            "__________________________________________________________________________________________________\n",
            "dense_1 (Dense)                 (None, 1)            65          dropout_37[0][0]                 \n",
            "==================================================================================================\n",
            "Total params: 109,531,521\n",
            "Trainable params: 109,531,521\n",
            "Non-trainable params: 0\n",
            "__________________________________________________________________________________________________\n"
          ],
          "name": "stdout"
        }
      ]
    },
    {
      "cell_type": "code",
      "metadata": {
        "colab": {
          "base_uri": "https://localhost:8080/"
        },
        "id": "1q1STTEJoxDx",
        "outputId": "4157f345-5538-4d35-d522-da0e7fd86ec7"
      },
      "source": [
        "history = model.fit(\n",
        "    [train_input_ids, train_attention_masks],\n",
        "    target_train,\n",
        "    validation_split=0.2, \n",
        "    epochs=EPOCHS,\n",
        "    batch_size=BATCH_SIZE\n",
        ")"
      ],
      "execution_count": null,
      "outputs": [
        {
          "output_type": "stream",
          "text": [
            "Epoch 1/10\n",
            "WARNING:tensorflow:The parameters `output_attentions`, `output_hidden_states` and `use_cache` cannot be updated when calling a model.They have to be set to True/False in the config object (i.e.: `config=XConfig.from_pretrained('name', output_attentions=True)`).\n",
            "WARNING:tensorflow:The parameter `return_dict` cannot be set in graph mode and will always be set to `True`.\n",
            "WARNING:tensorflow:The parameters `output_attentions`, `output_hidden_states` and `use_cache` cannot be updated when calling a model.They have to be set to True/False in the config object (i.e.: `config=XConfig.from_pretrained('name', output_attentions=True)`).\n",
            "WARNING:tensorflow:The parameter `return_dict` cannot be set in graph mode and will always be set to `True`.\n",
            "250/250 [==============================] - ETA: 0s - loss: 0.7143 - accuracy: 0.5123WARNING:tensorflow:The parameters `output_attentions`, `output_hidden_states` and `use_cache` cannot be updated when calling a model.They have to be set to True/False in the config object (i.e.: `config=XConfig.from_pretrained('name', output_attentions=True)`).\n",
            "WARNING:tensorflow:The parameter `return_dict` cannot be set in graph mode and will always be set to `True`.\n",
            "250/250 [==============================] - 210s 806ms/step - loss: 0.7143 - accuracy: 0.5123 - val_loss: 0.6569 - val_accuracy: 0.6190\n",
            "Epoch 2/10\n",
            "250/250 [==============================] - 207s 828ms/step - loss: 0.6328 - accuracy: 0.6425 - val_loss: 0.5560 - val_accuracy: 0.7410\n",
            "Epoch 3/10\n",
            "250/250 [==============================] - 207s 828ms/step - loss: 0.5486 - accuracy: 0.7385 - val_loss: 0.4857 - val_accuracy: 0.7840\n",
            "Epoch 4/10\n",
            "250/250 [==============================] - 207s 828ms/step - loss: 0.4906 - accuracy: 0.7768 - val_loss: 0.4518 - val_accuracy: 0.8055\n",
            "Epoch 5/10\n",
            "250/250 [==============================] - 207s 828ms/step - loss: 0.4529 - accuracy: 0.8018 - val_loss: 0.4398 - val_accuracy: 0.8100\n",
            "Epoch 6/10\n",
            "250/250 [==============================] - 207s 828ms/step - loss: 0.4353 - accuracy: 0.8106 - val_loss: 0.4338 - val_accuracy: 0.8080\n",
            "Epoch 7/10\n",
            "250/250 [==============================] - 207s 828ms/step - loss: 0.4111 - accuracy: 0.8270 - val_loss: 0.4306 - val_accuracy: 0.8075\n",
            "Epoch 8/10\n",
            "250/250 [==============================] - 207s 827ms/step - loss: 0.3966 - accuracy: 0.8324 - val_loss: 0.4292 - val_accuracy: 0.8105\n",
            "Epoch 9/10\n",
            "250/250 [==============================] - 207s 828ms/step - loss: 0.3780 - accuracy: 0.8451 - val_loss: 0.4267 - val_accuracy: 0.8125\n",
            "Epoch 10/10\n",
            "250/250 [==============================] - 207s 828ms/step - loss: 0.3590 - accuracy: 0.8529 - val_loss: 0.4254 - val_accuracy: 0.8160\n"
          ],
          "name": "stdout"
        }
      ]
    },
    {
      "cell_type": "code",
      "metadata": {
        "colab": {
          "base_uri": "https://localhost:8080/",
          "height": 357
        },
        "id": "vvuH_VQBoyvy",
        "outputId": "d0f810ef-1354-4859-e0a9-e1615b1596a3"
      },
      "source": [
        "plot_learning_curves(history, [['loss', 'val_loss'],['accuracy', 'val_accuracy']])"
      ],
      "execution_count": null,
      "outputs": [
        {
          "output_type": "display_data",
          "data": {
            "image/png": "[encoded data removed]",
            "text/plain": [
              "<Figure size 1440x360 with 2 Axes>"
            ]
          },
          "metadata": {
            "tags": [],
            "needs_background": "light"
          }
        }
      ]
    },
    {
      "cell_type": "code",
      "metadata": {
        "colab": {
          "base_uri": "https://localhost:8080/"
        },
        "id": "50Ie0Gg028gT",
        "outputId": "9aaf3e5e-7108-48b4-c0a4-76077c6fa2ea"
      },
      "source": [
        "predictions_test = model.predict([test_input_ids, test_attention_masks])\n",
        "predictions_test_class = [i.round() for i in predictions_test]\n",
        "\n",
        "y_pred_bi = np.array(predictions_test_class)\n",
        "y_hat_bi = np.array(df_test['sentiment'])\n",
        "evaluate_model(y_hat_bi, y_pred_bi)"
      ],
      "execution_count": null,
      "outputs": [
        {
          "output_type": "stream",
          "text": [
            "[[144  33]\n",
            " [ 24 158]]\n",
            "              precision    recall  f1-score   support\n",
            "\n",
            "           0       0.86      0.81      0.83       177\n",
            "           1       0.83      0.87      0.85       182\n",
            "\n",
            "    accuracy                           0.84       359\n",
            "   macro avg       0.84      0.84      0.84       359\n",
            "weighted avg       0.84      0.84      0.84       359\n",
            "\n",
            "Accuracy Score: 0.841\n"
          ],
          "name": "stdout"
        }
      ]
    },
    {
      "cell_type": "code",
      "metadata": {
        "colab": {
          "base_uri": "https://localhost:8080/"
        },
        "id": "c4u_uIT94Pnx",
        "outputId": "44d9e3eb-721a-4776-d4e6-5c74c850c204"
      },
      "source": [
        "predictions_dublin = model.predict([dublin_input_ids, dublin_attention_masks])\n",
        "predictions_dublin_class = [i.round() for i in predictions_dublin]\n",
        "\n",
        "y_pred_bi = np.array(predictions_dublin_class)\n",
        "y_hat_bi = np.array(df_dublin['sentiment'])\n",
        "evaluate_model(y_hat_bi, y_pred_bi)"
      ],
      "execution_count": null,
      "outputs": [
        {
          "output_type": "stream",
          "text": [
            "[[674 326]\n",
            " [290 710]]\n",
            "              precision    recall  f1-score   support\n",
            "\n",
            "           0       0.70      0.67      0.69      1000\n",
            "           1       0.69      0.71      0.70      1000\n",
            "\n",
            "    accuracy                           0.69      2000\n",
            "   macro avg       0.69      0.69      0.69      2000\n",
            "weighted avg       0.69      0.69      0.69      2000\n",
            "\n",
            "Accuracy Score: 0.692\n"
          ],
          "name": "stdout"
        }
      ]
    },
    {
      "cell_type": "code",
      "metadata": {
        "colab": {
          "base_uri": "https://localhost:8080/"
        },
        "id": "E1F0PiOHHW9P",
        "outputId": "f42d283c-9ad1-4275-d5da-9906f27e4e61"
      },
      "source": [
        "predictions_train = model.predict([train_input_ids, train_attention_masks])\n",
        "predictions_train_class = [i.round() for i in predictions_train]\n",
        "\n",
        "y_pred_bi = np.array(predictions_train_class)\n",
        "y_hat_bi = np.array(df['sentiment'])\n",
        "evaluate_model(y_hat_bi, y_pred_bi)"
      ],
      "execution_count": null,
      "outputs": [
        {
          "output_type": "stream",
          "text": [
            "[[4271  732]\n",
            " [ 583 4414]]\n",
            "              precision    recall  f1-score   support\n",
            "\n",
            "           0       0.88      0.85      0.87      5003\n",
            "           1       0.86      0.88      0.87      4997\n",
            "\n",
            "    accuracy                           0.87     10000\n",
            "   macro avg       0.87      0.87      0.87     10000\n",
            "weighted avg       0.87      0.87      0.87     10000\n",
            "\n",
            "Accuracy Score: 0.869\n"
          ],
          "name": "stdout"
        }
      ]
    },
    {
      "cell_type": "code",
      "metadata": {
        "id": "nQVg_GTEBP7S"
      },
      "source": [
        ""
      ],
      "execution_count": null,
      "outputs": []
    }
  ]
}