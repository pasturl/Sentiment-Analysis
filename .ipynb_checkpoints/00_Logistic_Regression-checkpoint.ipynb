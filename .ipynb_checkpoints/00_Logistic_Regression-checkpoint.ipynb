{
 "cells": [
  {
   "cell_type": "code",
   "execution_count": 3,
   "id": "JZT77AVkaOMT",
   "metadata": {
    "colab": {
     "base_uri": "https://localhost:8080/"
    },
    "executionInfo": {
     "elapsed": 17928,
     "status": "ok",
     "timestamp": 1628604809453,
     "user": {
      "displayName": "Lucas Pastur Romay",
      "photoUrl": "https://lh3.googleusercontent.com/a-/AOh14Gh_t88O1YkfKS1m-zSfNs9FakuWRQmV3C9DLuiGXg=s64",
      "userId": "08212788615723811728"
     },
     "user_tz": -120
    },
    "id": "JZT77AVkaOMT",
    "outputId": "2b2e221d-4470-4269-b51f-32c10d756d80"
   },
   "outputs": [],
   "source": [
    "from google.colab import drive\n",
    "drive.mount('/content/gdrive')\n",
    "%cd /content/gdrive/MyDrive/bert"
   ]
  },
  {
   "cell_type": "code",
   "execution_count": null,
   "id": "F5K4XMKMYMjr",
   "metadata": {
    "executionInfo": {
     "elapsed": 46336,
     "status": "ok",
     "timestamp": 1628604340805,
     "user": {
      "displayName": "Lucas Pastur Romay",
      "photoUrl": "https://lh3.googleusercontent.com/a-/AOh14Gh_t88O1YkfKS1m-zSfNs9FakuWRQmV3C9DLuiGXg=s64",
      "userId": "08212788615723811728"
     },
     "user_tz": -120
    },
    "id": "F5K4XMKMYMjr"
   },
   "outputs": [],
   "source": [
    "%%capture\n",
    "!pip install shap\n",
    "!pip install interpret\n",
    "!pip install nltk\n",
    "!pip install wordcloud"
   ]
  },
  {
   "cell_type": "code",
   "execution_count": 1,
   "id": "861c3b4b-5e1b-45eb-afc2-467a997c02a9",
   "metadata": {
    "colab": {
     "base_uri": "https://localhost:8080/"
    },
    "executionInfo": {
     "elapsed": 231,
     "status": "ok",
     "timestamp": 1628604983904,
     "user": {
      "displayName": "Lucas Pastur Romay",
      "photoUrl": "https://lh3.googleusercontent.com/a-/AOh14Gh_t88O1YkfKS1m-zSfNs9FakuWRQmV3C9DLuiGXg=s64",
      "userId": "08212788615723811728"
     },
     "user_tz": -120
    },
    "id": "861c3b4b-5e1b-45eb-afc2-467a997c02a9",
    "outputId": "9b0ec62c-3bae-457e-b015-88a1464fbaed"
   },
   "outputs": [
    {
     "name": "stderr",
     "output_type": "stream",
     "text": [
      "[nltk_data] Downloading package stopwords to\n",
      "[nltk_data]     C:\\Users\\lucas\\AppData\\Roaming\\nltk_data...\n",
      "[nltk_data]   Package stopwords is already up-to-date!\n"
     ]
    }
   ],
   "source": [
    "import pandas as pd\n",
    "import numpy as np\n",
    "from sklearn.feature_extraction.text import TfidfVectorizer, CountVectorizer\n",
    "from sklearn.linear_model import LogisticRegression\n",
    "from sklearn import metrics\n",
    "import interpret.glassbox\n",
    "import shap\n",
    "import random\n",
    "from collections import Counter\n",
    "import matplotlib.pyplot as plt\n",
    "from wordcloud import WordCloud\n",
    "from nltk.corpus import stopwords\n",
    "import nltk\n",
    "nltk.download('stopwords')\n",
    "stopwords = stopwords.words('english')\n",
    "\n",
    "from preprocess_data import read_dublin_data, read_sentiment_data, preprocess_data\n",
    "from evaluate import evaluate_model\n"
   ]
  },
  {
   "cell_type": "markdown",
   "id": "369a50aa",
   "metadata": {},
   "source": [
    "# Parameters"
   ]
  },
  {
   "cell_type": "code",
   "execution_count": null,
   "id": "72a3211c",
   "metadata": {
    "executionInfo": {
     "elapsed": 218,
     "status": "ok",
     "timestamp": 1628604907384,
     "user": {
      "displayName": "Lucas Pastur Romay",
      "photoUrl": "https://lh3.googleusercontent.com/a-/AOh14Gh_t88O1YkfKS1m-zSfNs9FakuWRQmV3C9DLuiGXg=s64",
      "userId": "08212788615723811728"
     },
     "user_tz": -120
    },
    "id": "72a3211c"
   },
   "outputs": [],
   "source": [
    "MAX_FEATURES = 5000\n",
    "N_TWEET_PRINT = 10"
   ]
  },
  {
   "cell_type": "markdown",
   "id": "3d8fb492",
   "metadata": {},
   "source": [
    "# Read Data"
   ]
  },
  {
   "cell_type": "code",
   "execution_count": null,
   "id": "64aa4a07-8ed6-45d2-a2e9-2039a9fe7827",
   "metadata": {
    "executionInfo": {
     "elapsed": 5891,
     "status": "ok",
     "timestamp": 1628604942687,
     "user": {
      "displayName": "Lucas Pastur Romay",
      "photoUrl": "https://lh3.googleusercontent.com/a-/AOh14Gh_t88O1YkfKS1m-zSfNs9FakuWRQmV3C9DLuiGXg=s64",
      "userId": "08212788615723811728"
     },
     "user_tz": -120
    },
    "id": "64aa4a07-8ed6-45d2-a2e9-2039a9fe7827"
   },
   "outputs": [],
   "source": [
    "%%capture\n",
    "filename = \"/content/gdrive/MyDrive/bert/Sentiment140-train.csv\"\n",
    "df_train = read_sentiment_data(filename)"
   ]
  },
  {
   "cell_type": "code",
   "execution_count": null,
   "id": "S_QQ0-VLae_t",
   "metadata": {
    "executionInfo": {
     "elapsed": 359,
     "status": "ok",
     "timestamp": 1628604915927,
     "user": {
      "displayName": "Lucas Pastur Romay",
      "photoUrl": "https://lh3.googleusercontent.com/a-/AOh14Gh_t88O1YkfKS1m-zSfNs9FakuWRQmV3C9DLuiGXg=s64",
      "userId": "08212788615723811728"
     },
     "user_tz": -120
    },
    "id": "S_QQ0-VLae_t"
   },
   "outputs": [],
   "source": [
    "%%capture\n",
    "filename = \"/content/gdrive/MyDrive/bert/Sentiment140-test.csv\"\n",
    "df_test = read_sentiment_data(filename)"
   ]
  },
  {
   "cell_type": "code",
   "execution_count": null,
   "id": "e2cjFrzgakMU",
   "metadata": {
    "executionInfo": {
     "elapsed": 467,
     "status": "ok",
     "timestamp": 1628604916392,
     "user": {
      "displayName": "Lucas Pastur Romay",
      "photoUrl": "https://lh3.googleusercontent.com/a-/AOh14Gh_t88O1YkfKS1m-zSfNs9FakuWRQmV3C9DLuiGXg=s64",
      "userId": "08212788615723811728"
     },
     "user_tz": -120
    },
    "id": "e2cjFrzgakMU"
   },
   "outputs": [],
   "source": [
    "%%capture\n",
    "filename = \"/content/gdrive/MyDrive/bert/citypulse.dublin_city_council.test.csv\"\n",
    "df_dublin = read_dublin_data(filename)"
   ]
  },
  {
   "cell_type": "code",
   "execution_count": null,
   "id": "28dab0e0-63c6-4265-85af-4cf65cff643e",
   "metadata": {
    "executionInfo": {
     "elapsed": 319,
     "status": "ok",
     "timestamp": 1628604943004,
     "user": {
      "displayName": "Lucas Pastur Romay",
      "photoUrl": "https://lh3.googleusercontent.com/a-/AOh14Gh_t88O1YkfKS1m-zSfNs9FakuWRQmV3C9DLuiGXg=s64",
      "userId": "08212788615723811728"
     },
     "user_tz": -120
    },
    "id": "28dab0e0-63c6-4265-85af-4cf65cff643e"
   },
   "outputs": [],
   "source": [
    "df_train['split'] = \"train\"\n",
    "df_test['split'] = \"test\"\n",
    "df_all = pd.concat([df_train, df_test])"
   ]
  },
  {
   "cell_type": "markdown",
   "id": "pB5s4QAtc6xL",
   "metadata": {
    "id": "pB5s4QAtc6xL"
   },
   "source": [
    "# Target distribution in each dataset\n",
    "* Positive and negative sentiment are equally split in all datasets"
   ]
  },
  {
   "cell_type": "code",
   "execution_count": null,
   "id": "355d0662-3cd4-4caf-b68a-0f9a52254238",
   "metadata": {
    "colab": {
     "base_uri": "https://localhost:8080/"
    },
    "executionInfo": {
     "elapsed": 311,
     "status": "ok",
     "timestamp": 1628604943314,
     "user": {
      "displayName": "Lucas Pastur Romay",
      "photoUrl": "https://lh3.googleusercontent.com/a-/AOh14Gh_t88O1YkfKS1m-zSfNs9FakuWRQmV3C9DLuiGXg=s64",
      "userId": "08212788615723811728"
     },
     "user_tz": -120
    },
    "id": "355d0662-3cd4-4caf-b68a-0f9a52254238",
    "outputId": "a7bdc0de-bd77-44ae-f560-2a913e600157"
   },
   "outputs": [],
   "source": [
    "df_train['sentiment'].value_counts()"
   ]
  },
  {
   "cell_type": "code",
   "execution_count": null,
   "id": "a2dbd1d5-e1c3-4e91-b458-68f18a15b7c5",
   "metadata": {
    "colab": {
     "base_uri": "https://localhost:8080/"
    },
    "executionInfo": {
     "elapsed": 2,
     "status": "ok",
     "timestamp": 1628604944087,
     "user": {
      "displayName": "Lucas Pastur Romay",
      "photoUrl": "https://lh3.googleusercontent.com/a-/AOh14Gh_t88O1YkfKS1m-zSfNs9FakuWRQmV3C9DLuiGXg=s64",
      "userId": "08212788615723811728"
     },
     "user_tz": -120
    },
    "id": "a2dbd1d5-e1c3-4e91-b458-68f18a15b7c5",
    "outputId": "987b19cb-94d6-4427-9b15-c7373ffa1a22"
   },
   "outputs": [],
   "source": [
    "df_test['sentiment'].value_counts()"
   ]
  },
  {
   "cell_type": "code",
   "execution_count": null,
   "id": "3fb1283f-3f92-43bd-8b7b-beb097f693f9",
   "metadata": {
    "colab": {
     "base_uri": "https://localhost:8080/"
    },
    "executionInfo": {
     "elapsed": 3,
     "status": "ok",
     "timestamp": 1628604944321,
     "user": {
      "displayName": "Lucas Pastur Romay",
      "photoUrl": "https://lh3.googleusercontent.com/a-/AOh14Gh_t88O1YkfKS1m-zSfNs9FakuWRQmV3C9DLuiGXg=s64",
      "userId": "08212788615723811728"
     },
     "user_tz": -120
    },
    "id": "3fb1283f-3f92-43bd-8b7b-beb097f693f9",
    "outputId": "73e49ead-e270-49e3-9353-5da9734bc0b6"
   },
   "outputs": [],
   "source": [
    "df_dublin['sentiment'].value_counts()"
   ]
  },
  {
   "cell_type": "code",
   "execution_count": null,
   "id": "0ff78402",
   "metadata": {
    "executionInfo": {
     "elapsed": 108746,
     "status": "ok",
     "timestamp": 1628605095096,
     "user": {
      "displayName": "Lucas Pastur Romay",
      "photoUrl": "https://lh3.googleusercontent.com/a-/AOh14Gh_t88O1YkfKS1m-zSfNs9FakuWRQmV3C9DLuiGXg=s64",
      "userId": "08212788615723811728"
     },
     "user_tz": -120
    },
    "id": "0ff78402"
   },
   "outputs": [],
   "source": [
    "df_dublin = preprocess_data(df_dublin, stopwords)\n",
    "df_train = preprocess_data(df_train, stopwords)\n",
    "df_test = preprocess_data(df_test, stopwords)\n",
    "df_all = preprocess_data(df_all, stopwords)"
   ]
  },
  {
   "cell_type": "code",
   "execution_count": null,
   "id": "12eb7d0f-9462-461e-9bb7-9da0ccf6350f",
   "metadata": {
    "colab": {
     "base_uri": "https://localhost:8080/"
    },
    "executionInfo": {
     "elapsed": 78146,
     "status": "ok",
     "timestamp": 1628605176330,
     "user": {
      "displayName": "Lucas Pastur Romay",
      "photoUrl": "https://lh3.googleusercontent.com/a-/AOh14Gh_t88O1YkfKS1m-zSfNs9FakuWRQmV3C9DLuiGXg=s64",
      "userId": "08212788615723811728"
     },
     "user_tz": -120
    },
    "id": "12eb7d0f-9462-461e-9bb7-9da0ccf6350f",
    "outputId": "8c088203-286e-43af-e8b1-d783d29c1691"
   },
   "outputs": [],
   "source": [
    "word_vectorizer = TfidfVectorizer(analyzer='word', token_pattern=r'\\w{1,}',\n",
    "                                  sublinear_tf=True, strip_accents='unicode',\n",
    "                                  stop_words='english', ngram_range=(1, 2),\n",
    "                                  max_features=MAX_FEATURES)\n",
    "word_vectorizer.fit(df_all['text_clean'])"
   ]
  },
  {
   "cell_type": "markdown",
   "id": "XNqhYogHbCVj",
   "metadata": {
    "id": "XNqhYogHbCVj"
   },
   "source": [
    "# Split train/test features and target"
   ]
  },
  {
   "cell_type": "code",
   "execution_count": null,
   "id": "c2ceee7e-249b-4542-841c-d41529b39a71",
   "metadata": {
    "executionInfo": {
     "elapsed": 349,
     "status": "ok",
     "timestamp": 1628605176677,
     "user": {
      "displayName": "Lucas Pastur Romay",
      "photoUrl": "https://lh3.googleusercontent.com/a-/AOh14Gh_t88O1YkfKS1m-zSfNs9FakuWRQmV3C9DLuiGXg=s64",
      "userId": "08212788615723811728"
     },
     "user_tz": -120
    },
    "id": "c2ceee7e-249b-4542-841c-d41529b39a71"
   },
   "outputs": [],
   "source": [
    "train_text = df_all.loc[df_all['split']==\"train\", \"text_clean\"]\n",
    "test_text = df_all.loc[df_all['split']==\"test\", \"text_clean\"]\n",
    "all_text = df_all[\"text_clean\"]\n",
    "y_train = df_all.loc[df_all['split']==\"train\", \"sentiment\"]\n",
    "y_test = df_all.loc[df_all['split']==\"train\", \"sentiment\"]\n",
    "y_all_text = df_all[\"sentiment\"]"
   ]
  },
  {
   "cell_type": "code",
   "execution_count": null,
   "id": "294c5fe0-c17d-4881-a730-d0be3e1f4a74",
   "metadata": {
    "executionInfo": {
     "elapsed": 3,
     "status": "ok",
     "timestamp": 1628605176679,
     "user": {
      "displayName": "Lucas Pastur Romay",
      "photoUrl": "https://lh3.googleusercontent.com/a-/AOh14Gh_t88O1YkfKS1m-zSfNs9FakuWRQmV3C9DLuiGXg=s64",
      "userId": "08212788615723811728"
     },
     "user_tz": -120
    },
    "id": "294c5fe0-c17d-4881-a730-d0be3e1f4a74"
   },
   "outputs": [],
   "source": [
    "x_dublin = df_dublin[\"text_clean\"]\n",
    "y_dublin = df_dublin[\"sentiment\"]"
   ]
  },
  {
   "cell_type": "code",
   "execution_count": null,
   "id": "6c5cb6d3-ab85-413e-818b-5a0b3b312980",
   "metadata": {
    "executionInfo": {
     "elapsed": 66171,
     "status": "ok",
     "timestamp": 1628605242847,
     "user": {
      "displayName": "Lucas Pastur Romay",
      "photoUrl": "https://lh3.googleusercontent.com/a-/AOh14Gh_t88O1YkfKS1m-zSfNs9FakuWRQmV3C9DLuiGXg=s64",
      "userId": "08212788615723811728"
     },
     "user_tz": -120
    },
    "id": "6c5cb6d3-ab85-413e-818b-5a0b3b312980"
   },
   "outputs": [],
   "source": [
    "train_features = word_vectorizer.transform(train_text)\n",
    "test_features = word_vectorizer.transform(test_text)\n",
    "all_features = word_vectorizer.transform(all_text)\n",
    "dublin_features = word_vectorizer.transform(x_dublin)"
   ]
  },
  {
   "cell_type": "markdown",
   "id": "db3uYaNrbI5S",
   "metadata": {
    "id": "db3uYaNrbI5S"
   },
   "source": [
    "# Fit Logistic Regression model"
   ]
  },
  {
   "cell_type": "code",
   "execution_count": null,
   "id": "33608dbf-a738-462b-84f9-206e8fcfec46",
   "metadata": {
    "colab": {
     "base_uri": "https://localhost:8080/"
    },
    "executionInfo": {
     "elapsed": 60311,
     "status": "ok",
     "timestamp": 1628605303156,
     "user": {
      "displayName": "Lucas Pastur Romay",
      "photoUrl": "https://lh3.googleusercontent.com/a-/AOh14Gh_t88O1YkfKS1m-zSfNs9FakuWRQmV3C9DLuiGXg=s64",
      "userId": "08212788615723811728"
     },
     "user_tz": -120
    },
    "id": "33608dbf-a738-462b-84f9-206e8fcfec46",
    "outputId": "b8268d0a-f5d8-4285-e771-c22f50f30782",
    "tags": []
   },
   "outputs": [],
   "source": [
    "lr = LogisticRegression(penalty='l2',C=1,\n",
    "                        max_iter = 1000, solver='lbfgs')\n",
    "lr.fit(train_features,y_train)"
   ]
  },
  {
   "cell_type": "markdown",
   "id": "J0v7ptjdbR4B",
   "metadata": {
    "id": "J0v7ptjdbR4B"
   },
   "source": [
    "# Make predictions"
   ]
  },
  {
   "cell_type": "code",
   "execution_count": null,
   "id": "565a2a46-c44f-4a1e-b61d-e3051a4a4c8c",
   "metadata": {
    "executionInfo": {
     "elapsed": 3,
     "status": "ok",
     "timestamp": 1628605303157,
     "user": {
      "displayName": "Lucas Pastur Romay",
      "photoUrl": "https://lh3.googleusercontent.com/a-/AOh14Gh_t88O1YkfKS1m-zSfNs9FakuWRQmV3C9DLuiGXg=s64",
      "userId": "08212788615723811728"
     },
     "user_tz": -120
    },
    "id": "565a2a46-c44f-4a1e-b61d-e3051a4a4c8c"
   },
   "outputs": [],
   "source": [
    "df_dublin['sentiment_pred'] = lr.predict(dublin_features)\n",
    "df_all['sentiment_pred'] = lr.predict(all_features)"
   ]
  },
  {
   "cell_type": "markdown",
   "id": "fb5d2d6c",
   "metadata": {
    "id": "fb5d2d6c"
   },
   "source": [
    "<a id='Metrics-Train'></a>\n",
    "### Metrics Train"
   ]
  },
  {
   "cell_type": "code",
   "execution_count": null,
   "id": "cabcbf69-5345-4d45-9180-518c715b4b49",
   "metadata": {
    "colab": {
     "base_uri": "https://localhost:8080/"
    },
    "executionInfo": {
     "elapsed": 5642,
     "status": "ok",
     "timestamp": 1628605308797,
     "user": {
      "displayName": "Lucas Pastur Romay",
      "photoUrl": "https://lh3.googleusercontent.com/a-/AOh14Gh_t88O1YkfKS1m-zSfNs9FakuWRQmV3C9DLuiGXg=s64",
      "userId": "08212788615723811728"
     },
     "user_tz": -120
    },
    "id": "cabcbf69-5345-4d45-9180-518c715b4b49",
    "outputId": "a11ba90d-de66-4403-89f9-b6a22e7e3ef9"
   },
   "outputs": [],
   "source": [
    "y_hat = df_all.loc[df_all['split']==\"train\", \"sentiment\"]\n",
    "y_pred = df_all.loc[df_all['split']==\"train\", \"sentiment_pred\"]\n",
    "evaluate_model(y_hat, y_pred)"
   ]
  },
  {
   "cell_type": "markdown",
   "id": "ae7f4dbe",
   "metadata": {
    "id": "ae7f4dbe"
   },
   "source": [
    "<a id='Metrics-Test'></a>\n",
    "### Metrics Test"
   ]
  },
  {
   "cell_type": "code",
   "execution_count": null,
   "id": "89682694-1989-4c8c-b36c-83187f16dd83",
   "metadata": {
    "colab": {
     "base_uri": "https://localhost:8080/"
    },
    "executionInfo": {
     "elapsed": 368,
     "status": "ok",
     "timestamp": 1628605309163,
     "user": {
      "displayName": "Lucas Pastur Romay",
      "photoUrl": "https://lh3.googleusercontent.com/a-/AOh14Gh_t88O1YkfKS1m-zSfNs9FakuWRQmV3C9DLuiGXg=s64",
      "userId": "08212788615723811728"
     },
     "user_tz": -120
    },
    "id": "89682694-1989-4c8c-b36c-83187f16dd83",
    "outputId": "ea7fc1ef-334b-45d9-c7b8-7d5160c6e3f1"
   },
   "outputs": [],
   "source": [
    "y_hat = df_all.loc[(df_all['split']==\"test\") & (df_all['sentiment']!=-1), \"sentiment\"]\n",
    "y_pred = df_all.loc[(df_all['split']==\"test\") & (df_all['sentiment']!=-1), \"sentiment_pred\"]\n",
    "evaluate_model(y_hat, y_pred)"
   ]
  },
  {
   "cell_type": "markdown",
   "id": "a0334c50",
   "metadata": {
    "id": "a0334c50"
   },
   "source": [
    "<a id='Metrics-Dublin'></a>\n",
    "### Metrics Dublin dataset"
   ]
  },
  {
   "cell_type": "code",
   "execution_count": null,
   "id": "ebf8240a-c174-4164-bfaa-0ff615bc1e73",
   "metadata": {
    "colab": {
     "base_uri": "https://localhost:8080/"
    },
    "executionInfo": {
     "elapsed": 4,
     "status": "ok",
     "timestamp": 1628605309163,
     "user": {
      "displayName": "Lucas Pastur Romay",
      "photoUrl": "https://lh3.googleusercontent.com/a-/AOh14Gh_t88O1YkfKS1m-zSfNs9FakuWRQmV3C9DLuiGXg=s64",
      "userId": "08212788615723811728"
     },
     "user_tz": -120
    },
    "id": "ebf8240a-c174-4164-bfaa-0ff615bc1e73",
    "outputId": "6920c088-514b-432d-e9a9-e8921c93ea24"
   },
   "outputs": [],
   "source": [
    "y_hat = df_dublin.loc[(df_dublin['sentiment']!=-1), \"sentiment\"]\n",
    "y_pred = df_dublin.loc[(df_dublin['sentiment']!=-1), \"sentiment_pred\"]\n",
    "evaluate_model(y_hat, y_pred)"
   ]
  },
  {
   "cell_type": "markdown",
   "id": "e0382d96",
   "metadata": {
    "id": "e0382d96"
   },
   "source": [
    "<a id='Metrics-Category'></a>\n",
    "### Metrics by category"
   ]
  },
  {
   "cell_type": "code",
   "execution_count": null,
   "id": "7315696b-03ce-419f-93a0-2db73265afd0",
   "metadata": {
    "colab": {
     "base_uri": "https://localhost:8080/"
    },
    "executionInfo": {
     "elapsed": 242,
     "status": "ok",
     "timestamp": 1628605612420,
     "user": {
      "displayName": "Lucas Pastur Romay",
      "photoUrl": "https://lh3.googleusercontent.com/a-/AOh14Gh_t88O1YkfKS1m-zSfNs9FakuWRQmV3C9DLuiGXg=s64",
      "userId": "08212788615723811728"
     },
     "user_tz": -120
    },
    "id": "7315696b-03ce-419f-93a0-2db73265afd0",
    "outputId": "c0214ea5-e232-40fe-802f-ddf0aa2e312d",
    "scrolled": true
   },
   "outputs": [],
   "source": [
    "for category in df_dublin['category'].unique():\n",
    "    print(category)\n",
    "    y_hat = df_dublin.loc[(df_dublin['sentiment']!=-1) & (df_dublin['category']!=category), \"sentiment\"]\n",
    "    y_pred = df_dublin.loc[(df_dublin['sentiment']!=-1) & (df_dublin['category']!=category), \"sentiment_pred\"]\n",
    "    evaluate_model(y_hat, y_pred)"
   ]
  },
  {
   "cell_type": "code",
   "execution_count": null,
   "id": "c16bbbcf-587f-4bec-98a1-ad6c1905f01e",
   "metadata": {
    "executionInfo": {
     "elapsed": 233,
     "status": "ok",
     "timestamp": 1628605614325,
     "user": {
      "displayName": "Lucas Pastur Romay",
      "photoUrl": "https://lh3.googleusercontent.com/a-/AOh14Gh_t88O1YkfKS1m-zSfNs9FakuWRQmV3C9DLuiGXg=s64",
      "userId": "08212788615723811728"
     },
     "user_tz": -120
    },
    "id": "c16bbbcf-587f-4bec-98a1-ad6c1905f01e"
   },
   "outputs": [],
   "source": [
    "df_dublin['sentiment_pred_class'] = df_dublin['sentiment_pred'].astype(int)"
   ]
  },
  {
   "cell_type": "markdown",
   "id": "ffabd4ea",
   "metadata": {
    "id": "ffabd4ea"
   },
   "source": [
    "### Words with Higher TFIDF values in test dataset"
   ]
  },
  {
   "cell_type": "code",
   "execution_count": null,
   "id": "0913e21e-6e57-4e31-971e-857ead61f2a4",
   "metadata": {
    "colab": {
     "base_uri": "https://localhost:8080/"
    },
    "executionInfo": {
     "elapsed": 239,
     "status": "ok",
     "timestamp": 1628605617800,
     "user": {
      "displayName": "Lucas Pastur Romay",
      "photoUrl": "https://lh3.googleusercontent.com/a-/AOh14Gh_t88O1YkfKS1m-zSfNs9FakuWRQmV3C9DLuiGXg=s64",
      "userId": "08212788615723811728"
     },
     "user_tz": -120
    },
    "id": "0913e21e-6e57-4e31-971e-857ead61f2a4",
    "outputId": "1c1300d2-26fa-4c2d-c200-3da5025eb2d7"
   },
   "outputs": [],
   "source": [
    "feature_array = np.array(word_vectorizer.get_feature_names())\n",
    "tfidf_sorting = np.argsort(test_features.toarray()).flatten()[::-1]\n",
    "\n",
    "n = 50\n",
    "top_n = feature_array[tfidf_sorting][:n]\n",
    "top_n"
   ]
  },
  {
   "cell_type": "markdown",
   "id": "12f67519",
   "metadata": {
    "id": "12f67519"
   },
   "source": [
    "### Words with Higher TFIDF values in dublin dataset"
   ]
  },
  {
   "cell_type": "code",
   "execution_count": null,
   "id": "831f1a95-cec3-4324-9d26-2ca22f9135d5",
   "metadata": {
    "colab": {
     "base_uri": "https://localhost:8080/"
    },
    "executionInfo": {
     "elapsed": 1074,
     "status": "ok",
     "timestamp": 1628605619963,
     "user": {
      "displayName": "Lucas Pastur Romay",
      "photoUrl": "https://lh3.googleusercontent.com/a-/AOh14Gh_t88O1YkfKS1m-zSfNs9FakuWRQmV3C9DLuiGXg=s64",
      "userId": "08212788615723811728"
     },
     "user_tz": -120
    },
    "id": "831f1a95-cec3-4324-9d26-2ca22f9135d5",
    "outputId": "69adc638-26a0-4c6e-855c-ac72fcb7a52c"
   },
   "outputs": [],
   "source": [
    "tfidf_sorting = np.argsort(dublin_features.toarray()).flatten()[::-1]\n",
    "top_n = feature_array[tfidf_sorting][:n]\n",
    "top_n"
   ]
  },
  {
   "cell_type": "markdown",
   "id": "93bd196e",
   "metadata": {
    "id": "93bd196e"
   },
   "source": [
    "# Wordcloud most frequent words Train vs Test vs Dublin dataset"
   ]
  },
  {
   "cell_type": "code",
   "execution_count": null,
   "id": "1805fd77",
   "metadata": {
    "colab": {
     "base_uri": "https://localhost:8080/",
     "height": 559
    },
    "executionInfo": {
     "elapsed": 52395,
     "status": "ok",
     "timestamp": 1628605672960,
     "user": {
      "displayName": "Lucas Pastur Romay",
      "photoUrl": "https://lh3.googleusercontent.com/a-/AOh14Gh_t88O1YkfKS1m-zSfNs9FakuWRQmV3C9DLuiGXg=s64",
      "userId": "08212788615723811728"
     },
     "user_tz": -120
    },
    "id": "1805fd77",
    "outputId": "d9cc4c77-bcde-4599-861c-76425fb3dc63"
   },
   "outputs": [],
   "source": [
    "wc = WordCloud(\n",
    "    background_color='white', \n",
    "    max_words=50, \n",
    ")\n",
    "wc.generate(' '.join(text for text in df_train.loc[df_train['sentiment'] == 1, 'text_clean']))\n",
    "plt.figure(figsize=(18,10))\n",
    "plt.title('Top words for Positive sentiment train', \n",
    "          fontdict={'size': 22,  'verticalalignment': 'bottom'})\n",
    "plt.imshow(wc)\n",
    "plt.axis(\"off\")\n",
    "plt.show()"
   ]
  },
  {
   "cell_type": "code",
   "execution_count": null,
   "id": "fd309e8d",
   "metadata": {
    "colab": {
     "base_uri": "https://localhost:8080/",
     "height": 559
    },
    "executionInfo": {
     "elapsed": 970,
     "status": "ok",
     "timestamp": 1628605673927,
     "user": {
      "displayName": "Lucas Pastur Romay",
      "photoUrl": "https://lh3.googleusercontent.com/a-/AOh14Gh_t88O1YkfKS1m-zSfNs9FakuWRQmV3C9DLuiGXg=s64",
      "userId": "08212788615723811728"
     },
     "user_tz": -120
    },
    "id": "fd309e8d",
    "outputId": "a4d21a76-007f-45f3-dbef-cca9dd23c44b"
   },
   "outputs": [],
   "source": [
    "wc = WordCloud(\n",
    "    background_color='white', \n",
    "    max_words=50, \n",
    ")\n",
    "wc.generate(' '.join(text for text in df_test.loc[df_test['sentiment'] == 1, 'text_clean']))\n",
    "plt.figure(figsize=(18,10))\n",
    "plt.title('Top words for Positive sentiment test', \n",
    "          fontdict={'size': 22,  'verticalalignment': 'bottom'})\n",
    "plt.imshow(wc)\n",
    "plt.axis(\"off\")\n",
    "plt.show()"
   ]
  },
  {
   "cell_type": "code",
   "execution_count": null,
   "id": "9b99c43e",
   "metadata": {
    "colab": {
     "base_uri": "https://localhost:8080/",
     "height": 559
    },
    "executionInfo": {
     "elapsed": 925,
     "status": "ok",
     "timestamp": 1628605674848,
     "user": {
      "displayName": "Lucas Pastur Romay",
      "photoUrl": "https://lh3.googleusercontent.com/a-/AOh14Gh_t88O1YkfKS1m-zSfNs9FakuWRQmV3C9DLuiGXg=s64",
      "userId": "08212788615723811728"
     },
     "user_tz": -120
    },
    "id": "9b99c43e",
    "outputId": "eb674fa7-487f-4242-abd8-bce3beeeb0f1"
   },
   "outputs": [],
   "source": [
    "wc = WordCloud(\n",
    "    background_color='white', \n",
    "    max_words=50, \n",
    ")\n",
    "wc.generate(' '.join(text for text in df_dublin.loc[df_dublin['sentiment'] == 1, 'text_clean']))\n",
    "plt.figure(figsize=(18,10))\n",
    "plt.title('Top words for Positive sentiment dublin dataset', \n",
    "          fontdict={'size': 22,  'verticalalignment': 'bottom'})\n",
    "plt.imshow(wc)\n",
    "plt.axis(\"off\")\n",
    "plt.show()"
   ]
  },
  {
   "cell_type": "code",
   "execution_count": null,
   "id": "f1d902ce",
   "metadata": {
    "colab": {
     "base_uri": "https://localhost:8080/",
     "height": 559
    },
    "executionInfo": {
     "elapsed": 48718,
     "status": "ok",
     "timestamp": 1628605723564,
     "user": {
      "displayName": "Lucas Pastur Romay",
      "photoUrl": "https://lh3.googleusercontent.com/a-/AOh14Gh_t88O1YkfKS1m-zSfNs9FakuWRQmV3C9DLuiGXg=s64",
      "userId": "08212788615723811728"
     },
     "user_tz": -120
    },
    "id": "f1d902ce",
    "outputId": "cdda2b7c-14cb-4809-d1be-eb783f99573c"
   },
   "outputs": [],
   "source": [
    "wc = WordCloud(\n",
    "    background_color='white', \n",
    "    max_words=50, \n",
    ")\n",
    "wc.generate(' '.join(text for text in df_train.loc[df_train['sentiment'] == 0, 'text_clean']))\n",
    "plt.figure(figsize=(18,10))\n",
    "plt.title('Top words for Negative sentiment train', \n",
    "          fontdict={'size': 22,  'verticalalignment': 'bottom'})\n",
    "plt.imshow(wc)\n",
    "plt.axis(\"off\")\n",
    "plt.show()"
   ]
  },
  {
   "cell_type": "code",
   "execution_count": null,
   "id": "a0a4e3ef",
   "metadata": {
    "colab": {
     "base_uri": "https://localhost:8080/",
     "height": 559
    },
    "executionInfo": {
     "elapsed": 843,
     "status": "ok",
     "timestamp": 1628605724403,
     "user": {
      "displayName": "Lucas Pastur Romay",
      "photoUrl": "https://lh3.googleusercontent.com/a-/AOh14Gh_t88O1YkfKS1m-zSfNs9FakuWRQmV3C9DLuiGXg=s64",
      "userId": "08212788615723811728"
     },
     "user_tz": -120
    },
    "id": "a0a4e3ef",
    "outputId": "726dfe4b-b171-4cbd-8694-167b3d900bbd"
   },
   "outputs": [],
   "source": [
    "wc = WordCloud(\n",
    "    background_color='white', \n",
    "    max_words=50, \n",
    ")\n",
    "wc.generate(' '.join(text for text in df_test.loc[df_test['sentiment'] == 0, 'text_clean']))\n",
    "plt.figure(figsize=(18,10))\n",
    "plt.title('Top words for Negative sentiment test', \n",
    "          fontdict={'size': 22,  'verticalalignment': 'bottom'})\n",
    "plt.imshow(wc)\n",
    "plt.axis(\"off\")\n",
    "plt.show()"
   ]
  },
  {
   "cell_type": "code",
   "execution_count": null,
   "id": "7cd06c59",
   "metadata": {
    "colab": {
     "base_uri": "https://localhost:8080/",
     "height": 559
    },
    "executionInfo": {
     "elapsed": 975,
     "status": "ok",
     "timestamp": 1628605725373,
     "user": {
      "displayName": "Lucas Pastur Romay",
      "photoUrl": "https://lh3.googleusercontent.com/a-/AOh14Gh_t88O1YkfKS1m-zSfNs9FakuWRQmV3C9DLuiGXg=s64",
      "userId": "08212788615723811728"
     },
     "user_tz": -120
    },
    "id": "7cd06c59",
    "outputId": "125a9638-9063-442c-ca59-2cac95175285"
   },
   "outputs": [],
   "source": [
    "wc = WordCloud(\n",
    "    background_color='white', \n",
    "    max_words=50, \n",
    ")\n",
    "wc.generate(' '.join(text for text in df_dublin.loc[df_dublin['sentiment'] == 0, 'text_clean']))\n",
    "plt.figure(figsize=(18,10))\n",
    "plt.title('Top words for Negative sentiment dublin dataset', \n",
    "          fontdict={'size': 22,  'verticalalignment': 'bottom'})\n",
    "plt.imshow(wc)\n",
    "plt.axis(\"off\")\n",
    "plt.show()"
   ]
  },
  {
   "cell_type": "markdown",
   "id": "fecf836b",
   "metadata": {
    "id": "fecf836b"
   },
   "source": [
    "# Baseline model coeficients"
   ]
  },
  {
   "cell_type": "code",
   "execution_count": null,
   "id": "448fdbea-ff80-444b-94ce-e895fa054b27",
   "metadata": {
    "executionInfo": {
     "elapsed": 11,
     "status": "ok",
     "timestamp": 1628605725374,
     "user": {
      "displayName": "Lucas Pastur Romay",
      "photoUrl": "https://lh3.googleusercontent.com/a-/AOh14Gh_t88O1YkfKS1m-zSfNs9FakuWRQmV3C9DLuiGXg=s64",
      "userId": "08212788615723811728"
     },
     "user_tz": -120
    },
    "id": "448fdbea-ff80-444b-94ce-e895fa054b27"
   },
   "outputs": [],
   "source": [
    "data = {'word': word_vectorizer.get_feature_names(), 'coef': lr.coef_[0]}\n",
    "\n",
    "df_coef = pd.DataFrame(data=data)"
   ]
  },
  {
   "cell_type": "code",
   "execution_count": null,
   "id": "3ae1ea57-1ef6-4db2-a096-86c3e69e749e",
   "metadata": {
    "executionInfo": {
     "elapsed": 10,
     "status": "ok",
     "timestamp": 1628605725374,
     "user": {
      "displayName": "Lucas Pastur Romay",
      "photoUrl": "https://lh3.googleusercontent.com/a-/AOh14Gh_t88O1YkfKS1m-zSfNs9FakuWRQmV3C9DLuiGXg=s64",
      "userId": "08212788615723811728"
     },
     "user_tz": -120
    },
    "id": "3ae1ea57-1ef6-4db2-a096-86c3e69e749e"
   },
   "outputs": [],
   "source": [
    "df_coef.sort_values('coef', ascending = False, inplace = True)"
   ]
  },
  {
   "cell_type": "markdown",
   "id": "349db312",
   "metadata": {
    "id": "349db312"
   },
   "source": [
    "### Words with higher coefficients (correlated with positive sentiment prediction)"
   ]
  },
  {
   "cell_type": "code",
   "execution_count": null,
   "id": "2e7febd0-10e3-4792-9cb5-869a5f9213f3",
   "metadata": {
    "colab": {
     "base_uri": "https://localhost:8080/",
     "height": 363
    },
    "executionInfo": {
     "elapsed": 9,
     "status": "ok",
     "timestamp": 1628605725375,
     "user": {
      "displayName": "Lucas Pastur Romay",
      "photoUrl": "https://lh3.googleusercontent.com/a-/AOh14Gh_t88O1YkfKS1m-zSfNs9FakuWRQmV3C9DLuiGXg=s64",
      "userId": "08212788615723811728"
     },
     "user_tz": -120
    },
    "id": "2e7febd0-10e3-4792-9cb5-869a5f9213f3",
    "outputId": "9ad4d869-f001-4918-ec1c-899c3110499c"
   },
   "outputs": [],
   "source": [
    "df_coef.head(10)"
   ]
  },
  {
   "cell_type": "markdown",
   "id": "648b8816",
   "metadata": {
    "id": "648b8816"
   },
   "source": [
    "### Words with lower coefficients (correlated with negative sentiment prediction)"
   ]
  },
  {
   "cell_type": "code",
   "execution_count": null,
   "id": "e2410ab5",
   "metadata": {
    "colab": {
     "base_uri": "https://localhost:8080/",
     "height": 363
    },
    "executionInfo": {
     "elapsed": 8,
     "status": "ok",
     "timestamp": 1628605725375,
     "user": {
      "displayName": "Lucas Pastur Romay",
      "photoUrl": "https://lh3.googleusercontent.com/a-/AOh14Gh_t88O1YkfKS1m-zSfNs9FakuWRQmV3C9DLuiGXg=s64",
      "userId": "08212788615723811728"
     },
     "user_tz": -120
    },
    "id": "e2410ab5",
    "outputId": "e89fbfdd-a9d8-4dd1-c1c1-d3f411de7c8f"
   },
   "outputs": [],
   "source": [
    "df_coef.tail(10)"
   ]
  },
  {
   "cell_type": "markdown",
   "id": "8071270e",
   "metadata": {
    "id": "8071270e"
   },
   "source": [
    "# SHAP values of baseline model with test dataset "
   ]
  },
  {
   "cell_type": "code",
   "execution_count": 2,
   "id": "6a2ebd25-2a5f-400d-9f56-5cb050c8b151",
   "metadata": {
    "colab": {
     "base_uri": "https://localhost:8080/",
     "height": 585
    },
    "executionInfo": {
     "elapsed": 409,
     "status": "ok",
     "timestamp": 1628605725778,
     "user": {
      "displayName": "Lucas Pastur Romay",
      "photoUrl": "https://lh3.googleusercontent.com/a-/AOh14Gh_t88O1YkfKS1m-zSfNs9FakuWRQmV3C9DLuiGXg=s64",
      "userId": "08212788615723811728"
     },
     "user_tz": -120
    },
    "id": "6a2ebd25-2a5f-400d-9f56-5cb050c8b151",
    "outputId": "04cd4fbc-cfae-4f4b-f11e-d16ff9bd016a"
   },
   "outputs": [
    {
     "ename": "NameError",
     "evalue": "name 'shap' is not defined",
     "output_type": "error",
     "traceback": [
      "\u001b[1;31m---------------------------------------------------------------------------\u001b[0m",
      "\u001b[1;31mNameError\u001b[0m                                 Traceback (most recent call last)",
      "\u001b[1;32m~\\AppData\\Local\\Temp/ipykernel_23296/890215525.py\u001b[0m in \u001b[0;36m<module>\u001b[1;34m\u001b[0m\n\u001b[1;32m----> 1\u001b[1;33m explainer = shap.LinearExplainer(lr,\n\u001b[0m\u001b[0;32m      2\u001b[0m                                  test_features)\n\u001b[0;32m      3\u001b[0m \u001b[0mshap_values\u001b[0m \u001b[1;33m=\u001b[0m \u001b[0mexplainer\u001b[0m\u001b[1;33m.\u001b[0m\u001b[0mshap_values\u001b[0m\u001b[1;33m(\u001b[0m\u001b[0mtest_features\u001b[0m\u001b[1;33m)\u001b[0m\u001b[1;33m\u001b[0m\u001b[1;33m\u001b[0m\u001b[0m\n\u001b[0;32m      4\u001b[0m \u001b[0mX_test_array\u001b[0m \u001b[1;33m=\u001b[0m \u001b[0mtest_features\u001b[0m\u001b[1;33m.\u001b[0m\u001b[0mtoarray\u001b[0m\u001b[1;33m(\u001b[0m\u001b[1;33m)\u001b[0m\u001b[1;33m\u001b[0m\u001b[1;33m\u001b[0m\u001b[0m\n\u001b[0;32m      5\u001b[0m shap.summary_plot(shap_values,\n",
      "\u001b[1;31mNameError\u001b[0m: name 'shap' is not defined"
     ]
    }
   ],
   "source": [
    "explainer = shap.LinearExplainer(lr,\n",
    "                                 test_features)\n",
    "shap_values = explainer.shap_values(test_features)\n",
    "X_test_array = test_features.toarray()\n",
    "shap.summary_plot(shap_values,\n",
    "                  X_test_array,\n",
    "                  feature_names=word_vectorizer.get_feature_names())"
   ]
  },
  {
   "cell_type": "markdown",
   "id": "08a35c5c",
   "metadata": {
    "id": "08a35c5c"
   },
   "source": [
    "# SHAP values of baseline model with dublin dataset "
   ]
  },
  {
   "cell_type": "code",
   "execution_count": null,
   "id": "f74ef4c0-b5df-4bd2-a46d-99011392fd37",
   "metadata": {
    "colab": {
     "base_uri": "https://localhost:8080/",
     "height": 585
    },
    "executionInfo": {
     "elapsed": 624,
     "status": "ok",
     "timestamp": 1628605726388,
     "user": {
      "displayName": "Lucas Pastur Romay",
      "photoUrl": "https://lh3.googleusercontent.com/a-/AOh14Gh_t88O1YkfKS1m-zSfNs9FakuWRQmV3C9DLuiGXg=s64",
      "userId": "08212788615723811728"
     },
     "user_tz": -120
    },
    "id": "f74ef4c0-b5df-4bd2-a46d-99011392fd37",
    "outputId": "4b291a5f-671b-4ef0-e160-82d07626ef69"
   },
   "outputs": [],
   "source": [
    "explainer = shap.LinearExplainer(lr,\n",
    "                                 dublin_features)\n",
    "shap_values = explainer.shap_values(dublin_features)\n",
    "X_test_array = dublin_features.toarray()\n",
    "shap.summary_plot(shap_values,\n",
    "                  X_test_array,\n",
    "                  feature_names=word_vectorizer.get_feature_names())"
   ]
  },
  {
   "cell_type": "markdown",
   "id": "c899ff57",
   "metadata": {
    "id": "c899ff57"
   },
   "source": [
    "# SHAP values of baseline model with test dataset only with correct predictions"
   ]
  },
  {
   "cell_type": "code",
   "execution_count": null,
   "id": "c6978a5b",
   "metadata": {
    "colab": {
     "base_uri": "https://localhost:8080/",
     "height": 585
    },
    "executionInfo": {
     "elapsed": 1158,
     "status": "ok",
     "timestamp": 1628605727543,
     "user": {
      "displayName": "Lucas Pastur Romay",
      "photoUrl": "https://lh3.googleusercontent.com/a-/AOh14Gh_t88O1YkfKS1m-zSfNs9FakuWRQmV3C9DLuiGXg=s64",
      "userId": "08212788615723811728"
     },
     "user_tz": -120
    },
    "id": "c6978a5b",
    "outputId": "6da6a821-f1c9-4ede-e926-52f16dc0be64"
   },
   "outputs": [],
   "source": [
    "mask = df_dublin[df_dublin['sentiment'] == df_dublin['sentiment_pred_class']].index\n",
    "\n",
    "explainer = shap.LinearExplainer(lr,\n",
    "                                 dublin_features[mask])\n",
    "shap_values = explainer.shap_values(dublin_features[mask])\n",
    "X_test_array = dublin_features[mask].toarray()\n",
    "shap.summary_plot(shap_values,\n",
    "                  X_test_array,\n",
    "                  feature_names=word_vectorizer.get_feature_names())"
   ]
  },
  {
   "cell_type": "markdown",
   "id": "71656651",
   "metadata": {
    "id": "71656651"
   },
   "source": [
    "# SHAP values of baseline model with test dataset only with wrong predictions"
   ]
  },
  {
   "cell_type": "code",
   "execution_count": null,
   "id": "09935d64-2522-47c4-9963-925ad0cbbb5d",
   "metadata": {
    "colab": {
     "base_uri": "https://localhost:8080/",
     "height": 585
    },
    "executionInfo": {
     "elapsed": 752,
     "status": "ok",
     "timestamp": 1628605728293,
     "user": {
      "displayName": "Lucas Pastur Romay",
      "photoUrl": "https://lh3.googleusercontent.com/a-/AOh14Gh_t88O1YkfKS1m-zSfNs9FakuWRQmV3C9DLuiGXg=s64",
      "userId": "08212788615723811728"
     },
     "user_tz": -120
    },
    "id": "09935d64-2522-47c4-9963-925ad0cbbb5d",
    "outputId": "53ac2bfa-edf6-4a99-bab4-cca049b958b4"
   },
   "outputs": [],
   "source": [
    "mask = df_dublin[df_dublin['sentiment'] != df_dublin['sentiment_pred_class']].index\n",
    "\n",
    "explainer = shap.LinearExplainer(lr,\n",
    "                                 dublin_features[mask])\n",
    "shap_values = explainer.shap_values(dublin_features[mask])\n",
    "X_test_array = dublin_features[mask].toarray()\n",
    "shap.summary_plot(shap_values,\n",
    "                  X_test_array,\n",
    "                  feature_names=word_vectorizer.get_feature_names())"
   ]
  },
  {
   "cell_type": "markdown",
   "id": "012514e9",
   "metadata": {
    "id": "012514e9"
   },
   "source": [
    "# SHAP values for individual cases of wrong predictions"
   ]
  },
  {
   "cell_type": "code",
   "execution_count": null,
   "id": "6d566f8b",
   "metadata": {
    "colab": {
     "base_uri": "https://localhost:8080/",
     "height": 1000
    },
    "executionInfo": {
     "elapsed": 8436,
     "status": "ok",
     "timestamp": 1628605736727,
     "user": {
      "displayName": "Lucas Pastur Romay",
      "photoUrl": "https://lh3.googleusercontent.com/a-/AOh14Gh_t88O1YkfKS1m-zSfNs9FakuWRQmV3C9DLuiGXg=s64",
      "userId": "08212788615723811728"
     },
     "user_tz": -120
    },
    "id": "6d566f8b",
    "outputId": "5b1f678d-40ad-44ed-8c98-220012d96f1a",
    "scrolled": false
   },
   "outputs": [],
   "source": [
    "for i in range(N_TWEET_PRINT):\n",
    "    y_true_n = df_dublin[df_dublin['sentiment'] != df_dublin['sentiment_pred_class']].loc[mask[i], 'sentiment']\n",
    "    y_pred_n = df_dublin[df_dublin['sentiment'] != df_dublin['sentiment_pred_class']].loc[mask[i], 'sentiment_pred_class']\n",
    "    print(f\"Tweet {i+1}/{N_TWEET_PRINT}\")\n",
    "    print(f\"Real sentiment: {y_true_n}\")\n",
    "    print(f\"Predicted sentiment: {y_pred_n}\")\n",
    "    print(df_dublin[df_dublin['sentiment'] != df_dublin['sentiment_pred_class']].loc[mask[i], 'text'])\n",
    "    shap.plots._waterfall.waterfall_legacy(explainer.expected_value, shap_values[i], feature_names=word_vectorizer.get_feature_names())"
   ]
  },
  {
   "cell_type": "code",
   "execution_count": null,
   "id": "a1df3093",
   "metadata": {
    "id": "a1df3093"
   },
   "outputs": [],
   "source": []
  },
  {
   "cell_type": "code",
   "execution_count": null,
   "id": "6b13712c",
   "metadata": {
    "id": "6b13712c"
   },
   "outputs": [],
   "source": []
  }
 ],
 "metadata": {
  "colab": {
   "name": "00_baseline_model_explained.ipynb",
   "provenance": []
  },
  "kernelspec": {
   "display_name": "Python 3 (ipykernel)",
   "language": "python",
   "name": "python3"
  },
  "language_info": {
   "codemirror_mode": {
    "name": "ipython",
    "version": 3
   },
   "file_extension": ".py",
   "mimetype": "text/x-python",
   "name": "python",
   "nbconvert_exporter": "python",
   "pygments_lexer": "ipython3",
   "version": "3.7.11"
  }
 },
 "nbformat": 4,
 "nbformat_minor": 5
}
