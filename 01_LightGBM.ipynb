{
 "cells": [
  {
   "cell_type": "code",
   "execution_count": 1,
   "id": "a037be25",
   "metadata": {},
   "outputs": [
    {
     "ename": "ModuleNotFoundError",
     "evalue": "No module named 'google.colab'",
     "output_type": "error",
     "traceback": [
      "\u001b[1;31m---------------------------------------------------------------------------\u001b[0m",
      "\u001b[1;31mModuleNotFoundError\u001b[0m                       Traceback (most recent call last)",
      "\u001b[1;32m~\\AppData\\Local\\Temp/ipykernel_13288/421425154.py\u001b[0m in \u001b[0;36m<module>\u001b[1;34m\u001b[0m\n\u001b[1;32m----> 1\u001b[1;33m \u001b[1;32mfrom\u001b[0m \u001b[0mgoogle\u001b[0m\u001b[1;33m.\u001b[0m\u001b[0mcolab\u001b[0m \u001b[1;32mimport\u001b[0m \u001b[0mdrive\u001b[0m\u001b[1;33m\u001b[0m\u001b[1;33m\u001b[0m\u001b[0m\n\u001b[0m\u001b[0;32m      2\u001b[0m \u001b[0mdrive\u001b[0m\u001b[1;33m.\u001b[0m\u001b[0mmount\u001b[0m\u001b[1;33m(\u001b[0m\u001b[1;34m'/content/gdrive'\u001b[0m\u001b[1;33m)\u001b[0m\u001b[1;33m\u001b[0m\u001b[1;33m\u001b[0m\u001b[0m\n\u001b[0;32m      3\u001b[0m \u001b[0mget_ipython\u001b[0m\u001b[1;33m(\u001b[0m\u001b[1;33m)\u001b[0m\u001b[1;33m.\u001b[0m\u001b[0mrun_line_magic\u001b[0m\u001b[1;33m(\u001b[0m\u001b[1;34m'cd'\u001b[0m\u001b[1;33m,\u001b[0m \u001b[1;34m'/content/gdrive/MyDrive/bert'\u001b[0m\u001b[1;33m)\u001b[0m\u001b[1;33m\u001b[0m\u001b[1;33m\u001b[0m\u001b[0m\n",
      "\u001b[1;31mModuleNotFoundError\u001b[0m: No module named 'google.colab'"
     ]
    }
   ],
   "source": [
    "from google.colab import drive\n",
    "drive.mount('/content/gdrive')\n",
    "%cd /content/gdrive/MyDrive/bert"
   ]
  },
  {
   "cell_type": "code",
   "execution_count": null,
   "id": "d332f61b",
   "metadata": {},
   "outputs": [],
   "source": [
    "%%capture\n",
    "!pip install shap\n",
    "!pip install interpret\n",
    "!pip install nltk\n",
    "!pip install wordcloud\n",
    "!pip install lightgbm"
   ]
  },
  {
   "cell_type": "code",
   "execution_count": null,
   "id": "861c3b4b-5e1b-45eb-afc2-467a997c02a9",
   "metadata": {},
   "outputs": [],
   "source": [
    "import pandas as pd\n",
    "import numpy as np\n",
    "from sklearn.feature_extraction.text import TfidfVectorizer, CountVectorizer\n",
    "from sklearn.linear_model import LogisticRegression\n",
    "from sklearn import metrics\n",
    "import interpret.glassbox\n",
    "import lightgbm as lgb\n",
    "import shap\n",
    "import random\n",
    "from collections import Counter\n",
    "import matplotlib.pyplot as plt\n",
    "from wordcloud import WordCloud\n",
    "from nltk.corpus import stopwords\n",
    "import nltk\n",
    "from modules.utils import *\n",
    "nltk.download('stopwords')\n",
    "stopwords = stopwords.words('english')\n",
    "\n",
    "from preprocess_data import read_dublin_data, read_sentiment_data, preprocess_data\n",
    "from evaluate import evaluate_model\n"
   ]
  },
  {
   "cell_type": "markdown",
   "id": "7de44852",
   "metadata": {},
   "source": [
    "# Parameters"
   ]
  },
  {
   "cell_type": "code",
   "execution_count": null,
   "id": "72a3211c",
   "metadata": {},
   "outputs": [],
   "source": [
    "N_SAMPLE = 50000\n",
    "MAX_FEATURES = 10000\n",
    "N_TWEET_PRINT = 10"
   ]
  },
  {
   "cell_type": "markdown",
   "id": "66e3e317",
   "metadata": {},
   "source": [
    "# Read Data"
   ]
  },
  {
   "cell_type": "code",
   "execution_count": null,
   "id": "64aa4a07-8ed6-45d2-a2e9-2039a9fe7827",
   "metadata": {},
   "outputs": [],
   "source": [
    "%%capture\n",
    "filename = \"/content/gdrive/MyDrive/bert/Sentiment140-train.csv\"\n",
    "df_train = read_sentiment_data(filename)\n",
    "df_train = df_train.sample(N_SAMPLE).reset_index(drop=True)"
   ]
  },
  {
   "cell_type": "code",
   "execution_count": null,
   "id": "1a6bb9fd",
   "metadata": {},
   "outputs": [],
   "source": [
    "%%capture\n",
    "filename = \"/content/gdrive/MyDrive/bert/Sentiment140-test.csv\"\n",
    "df_test = read_sentiment_data(filename)"
   ]
  },
  {
   "cell_type": "code",
   "execution_count": null,
   "id": "4b7ee4e0",
   "metadata": {},
   "outputs": [],
   "source": [
    "%%capture\n",
    "filename = \"/content/gdrive/MyDrive/bert/citypulse.dublin_city_council.test.csv\"\n",
    "df_dublin = read_dublin_data(filename)"
   ]
  },
  {
   "cell_type": "code",
   "execution_count": null,
   "id": "bdcb1281",
   "metadata": {},
   "outputs": [],
   "source": []
  },
  {
   "cell_type": "code",
   "execution_count": null,
   "id": "28dab0e0-63c6-4265-85af-4cf65cff643e",
   "metadata": {},
   "outputs": [],
   "source": [
    "df_train['split'] = \"train\"\n",
    "df_test['split'] = \"test\"\n",
    "df_all = pd.concat([df_train, df_test])"
   ]
  },
  {
   "cell_type": "code",
   "execution_count": null,
   "id": "b4b4a9d3",
   "metadata": {},
   "outputs": [],
   "source": [
    "df_dublin = preprocess_data(df_dublin, stopwords)\n",
    "df_train = preprocess_data(df_train, stopwords)\n",
    "df_test = preprocess_data(df_test, stopwords)\n",
    "df_all = preprocess_data(df_all, stopwords)"
   ]
  },
  {
   "cell_type": "code",
   "execution_count": null,
   "id": "12eb7d0f-9462-461e-9bb7-9da0ccf6350f",
   "metadata": {},
   "outputs": [],
   "source": [
    "word_vectorizer = TfidfVectorizer(analyzer='word', token_pattern=r'\\w{1,}', sublinear_tf=True, strip_accents='unicode',\n",
    "                                  stop_words='english', ngram_range=(1, 2), max_features=MAX_FEATURES)\n",
    "word_vectorizer.fit(df_all['text_clean'])"
   ]
  },
  {
   "cell_type": "markdown",
   "id": "4bc012c7",
   "metadata": {},
   "source": [
    "# Split train/test features and target"
   ]
  },
  {
   "cell_type": "code",
   "execution_count": null,
   "id": "c2ceee7e-249b-4542-841c-d41529b39a71",
   "metadata": {},
   "outputs": [],
   "source": [
    "train_text = df_all.loc[df_all['split']==\"train\", \"text_clean\"]\n",
    "test_text = df_all.loc[df_all['split']==\"test\", \"text_clean\"]\n",
    "all_text = df_all[\"text_clean\"]\n",
    "y_train = df_all.loc[df_all['split']==\"train\", \"sentiment\"]\n",
    "y_test = df_all.loc[df_all['split']==\"test\", \"sentiment\"]\n",
    "y_all_text = df_all[\"sentiment\"]"
   ]
  },
  {
   "cell_type": "code",
   "execution_count": null,
   "id": "294c5fe0-c17d-4881-a730-d0be3e1f4a74",
   "metadata": {},
   "outputs": [],
   "source": [
    "x_dublin = df_dublin[\"text_clean\"]\n",
    "y_dublin = df_dublin[\"sentiment\"]"
   ]
  },
  {
   "cell_type": "code",
   "execution_count": null,
   "id": "6c5cb6d3-ab85-413e-818b-5a0b3b312980",
   "metadata": {},
   "outputs": [],
   "source": [
    "train_features = word_vectorizer.transform(train_text)\n",
    "test_features = word_vectorizer.transform(test_text)\n",
    "all_features = word_vectorizer.transform(all_text)\n",
    "dublin_features = word_vectorizer.transform(x_dublin)"
   ]
  },
  {
   "cell_type": "code",
   "execution_count": null,
   "id": "702a2f50",
   "metadata": {},
   "outputs": [],
   "source": [
    "df_train_features = pd.DataFrame(data = train_features.toarray())\n",
    "df_train_features.columns = word_vectorizer.get_feature_names()\n",
    "\n",
    "df_test_features = pd.DataFrame(data = test_features.toarray())\n",
    "df_test_features.columns = word_vectorizer.get_feature_names()\n",
    "\n",
    "df_dublin_features = pd.DataFrame(data = dublin_features.toarray())\n",
    "df_dublin_features.columns = word_vectorizer.get_feature_names()"
   ]
  },
  {
   "cell_type": "code",
   "execution_count": null,
   "id": "af37fccf",
   "metadata": {},
   "outputs": [],
   "source": [
    "train_lgb = lgb.Dataset(df_train_features, label=y_train)\n",
    "test_lgb = lgb.Dataset(df_test_features, label=y_test)\n",
    "dublin_lgb = lgb.Dataset(df_dublin_features, label=y_dublin)"
   ]
  },
  {
   "cell_type": "markdown",
   "id": "3e399abe",
   "metadata": {},
   "source": [
    "# Fit LightGBM model"
   ]
  },
  {
   "cell_type": "code",
   "execution_count": null,
   "id": "09068f96",
   "metadata": {},
   "outputs": [],
   "source": [
    "parameters = {\n",
    "    'application': 'binary',\n",
    "    'objective': 'binary',\n",
    "    'metric': 'auc',\n",
    "    'boosting': 'gbdt',\n",
    "    'num_leaves': 31,\n",
    "    'feature_fraction': 0.9,\n",
    "    'bagging_fraction': 0.9,\n",
    "    'bagging_freq': 20,\n",
    "    'learning_rate': 0.05,\n",
    "    'verbose': 0\n",
    "}\n",
    "\n",
    "model = lgb.train(parameters,\n",
    "                       train_lgb,\n",
    "                       valid_sets=test_lgb,\n",
    "                       num_boost_round=5000,\n",
    "                       early_stopping_rounds=100)"
   ]
  },
  {
   "cell_type": "code",
   "execution_count": null,
   "id": "33608dbf-a738-462b-84f9-206e8fcfec46",
   "metadata": {
    "tags": []
   },
   "outputs": [],
   "source": [
    "predictions = model.predict(all_features)\n",
    "df_all['sentiment_pred'] = predictions\n",
    "df_all['sentiment_pred_class'] = df_all['sentiment_pred'].apply(lambda x: round(x))"
   ]
  },
  {
   "cell_type": "code",
   "execution_count": null,
   "id": "565a2a46-c44f-4a1e-b61d-e3051a4a4c8c",
   "metadata": {},
   "outputs": [],
   "source": [
    "df_dublin['sentiment_pred'] = model.predict(dublin_features)\n",
    "df_dublin['sentiment_pred_class'] = df_dublin['sentiment_pred'].apply(lambda x: round(x))"
   ]
  },
  {
   "cell_type": "markdown",
   "id": "fb5d2d6c",
   "metadata": {},
   "source": [
    "### Metrics Train"
   ]
  },
  {
   "cell_type": "code",
   "execution_count": null,
   "id": "cabcbf69-5345-4d45-9180-518c715b4b49",
   "metadata": {},
   "outputs": [],
   "source": [
    "y_hat = df_all.loc[df_all['split']==\"train\", \"sentiment\"]\n",
    "y_pred = df_all.loc[df_all['split']==\"train\", \"sentiment_pred_class\"]\n",
    "print(metrics.confusion_matrix(y_hat, y_pred))\n",
    "print(metrics.classification_report(y_hat, y_pred))\n",
    "print(\"Accuracy Score: %.3f\" % metrics.accuracy_score(y_hat, y_pred))"
   ]
  },
  {
   "cell_type": "markdown",
   "id": "ae7f4dbe",
   "metadata": {},
   "source": [
    "### Metrics Test"
   ]
  },
  {
   "cell_type": "code",
   "execution_count": null,
   "id": "89682694-1989-4c8c-b36c-83187f16dd83",
   "metadata": {},
   "outputs": [],
   "source": [
    "y_hat = df_all.loc[(df_all['split']==\"test\") & (df_all['sentiment']!=-1), \"sentiment\"]\n",
    "y_pred = df_all.loc[(df_all['split']==\"test\") & (df_all['sentiment']!=-1), \"sentiment_pred_class\"]\n",
    "print(metrics.confusion_matrix(y_hat, y_pred))\n",
    "print(metrics.classification_report(y_hat, y_pred))\n",
    "print(\"Accuracy Score: %.3f\" % metrics.accuracy_score(y_hat, y_pred))\n",
    "fpr, tpr, thresholds = metrics.roc_curve(y_hat, y_pred, pos_label=1)\n",
    "print(\"AUC: %.3f\" % metrics.auc(fpr, tpr))"
   ]
  },
  {
   "cell_type": "markdown",
   "id": "a0334c50",
   "metadata": {},
   "source": [
    "### Metrics Dublin dataset"
   ]
  },
  {
   "cell_type": "code",
   "execution_count": null,
   "id": "ebf8240a-c174-4164-bfaa-0ff615bc1e73",
   "metadata": {},
   "outputs": [],
   "source": [
    "y_hat = df_dublin.loc[(df_dublin['sentiment']!=-1), \"sentiment\"]\n",
    "y_pred = df_dublin.loc[(df_dublin['sentiment']!=-1), \"sentiment_pred_class\"]\n",
    "print(metrics.confusion_matrix(y_hat, y_pred))\n",
    "print(metrics.classification_report(y_hat, y_pred))\n",
    "print(\"Accuracy Score: %.3f\" % metrics.accuracy_score(y_hat, y_pred))"
   ]
  },
  {
   "cell_type": "markdown",
   "id": "e0382d96",
   "metadata": {},
   "source": [
    "### Metrics by category"
   ]
  },
  {
   "cell_type": "code",
   "execution_count": null,
   "id": "7315696b-03ce-419f-93a0-2db73265afd0",
   "metadata": {
    "scrolled": true
   },
   "outputs": [],
   "source": [
    "for category in df_dublin['category'].unique():\n",
    "    print(category)\n",
    "    y_hat = df_dublin.loc[(df_dublin['sentiment']!=-1) & (df_dublin['category']!=category), \"sentiment\"]\n",
    "    y_pred = df_dublin.loc[(df_dublin['sentiment']!=-1) & (df_dublin['category']!=category), \"sentiment_pred_class\"]\n",
    "    print(metrics.confusion_matrix(y_hat, y_pred))\n",
    "    print(metrics.classification_report(y_hat, y_pred))\n",
    "    print(\"Accuracy Score: %.3f\" % metrics.accuracy_score(y_hat, y_pred))"
   ]
  },
  {
   "cell_type": "code",
   "execution_count": null,
   "id": "c16bbbcf-587f-4bec-98a1-ad6c1905f01e",
   "metadata": {},
   "outputs": [],
   "source": [
    "df_dublin['sentiment_pred_class'] = df_dublin['sentiment_pred'].astype(int)"
   ]
  },
  {
   "cell_type": "markdown",
   "id": "8071270e",
   "metadata": {},
   "source": [
    "# SHAP values of baseline model with test dataset "
   ]
  },
  {
   "cell_type": "code",
   "execution_count": null,
   "id": "6a2ebd25-2a5f-400d-9f56-5cb050c8b151",
   "metadata": {},
   "outputs": [],
   "source": [
    "explainer = shap.TreeExplainer(model,\n",
    "                                 df_test_features)\n",
    "shap_values = explainer.shap_values(df_test_features)\n",
    "X_test_array = df_test_features.toarray()\n",
    "shap.summary_plot(shap_values,\n",
    "                  X_test_array,\n",
    "                  feature_names=word_vectorizer.get_feature_names())"
   ]
  },
  {
   "cell_type": "markdown",
   "id": "08a35c5c",
   "metadata": {},
   "source": [
    "# SHAP values of baseline model with dublin dataset "
   ]
  },
  {
   "cell_type": "code",
   "execution_count": null,
   "id": "f74ef4c0-b5df-4bd2-a46d-99011392fd37",
   "metadata": {},
   "outputs": [],
   "source": [
    "explainer = shap.TreeExplainer(model,\n",
    "                                 df_dublin_features)\n",
    "shap_values = explainer.shap_values(df_dublin_features)\n",
    "X_test_array = dublin_features.toarray()\n",
    "shap.summary_plot(shap_values,\n",
    "                  X_test_array,\n",
    "                  feature_names=word_vectorizer.get_feature_names())"
   ]
  },
  {
   "cell_type": "markdown",
   "id": "c899ff57",
   "metadata": {},
   "source": [
    "# SHAP values of baseline model with test dataset only with right predictions"
   ]
  },
  {
   "cell_type": "code",
   "execution_count": null,
   "id": "c6978a5b",
   "metadata": {},
   "outputs": [],
   "source": [
    "mask = df_dublin[df_dublin['sentiment'] == df_dublin['sentiment_pred_class']].index\n",
    "\n",
    "explainer = shap.TreeExplainer(model,\n",
    "                                 df_dublin_features.loc[mask])\n",
    "shap_values = explainer.shap_values(df_dublin_features.loc[mask])\n",
    "X_test_array = dublin_features[mask].toarray()\n",
    "shap.summary_plot(shap_values,\n",
    "                  X_test_array,\n",
    "                  feature_names=word_vectorizer.get_feature_names())"
   ]
  },
  {
   "cell_type": "markdown",
   "id": "71656651",
   "metadata": {},
   "source": [
    "# SHAP values of baseline model with test dataset only with wrong predictions"
   ]
  },
  {
   "cell_type": "code",
   "execution_count": null,
   "id": "09935d64-2522-47c4-9963-925ad0cbbb5d",
   "metadata": {},
   "outputs": [],
   "source": [
    "mask = df_dublin[df_dublin['sentiment'] != df_dublin['sentiment_pred_class']].index\n",
    "\n",
    "explainer = shap.TreeExplainer(model,\n",
    "                                 df_dublin_features.loc[mask])\n",
    "shap_values = explainer.shap_values(df_dublin_features.loc[mask])\n",
    "X_test_array = dublin_features[mask].toarray()\n",
    "shap.summary_plot(shap_values,\n",
    "                  X_test_array,\n",
    "                  feature_names=word_vectorizer.get_feature_names())"
   ]
  },
  {
   "cell_type": "markdown",
   "id": "012514e9",
   "metadata": {},
   "source": [
    "# SHAP values for individual cases of wrong predictions"
   ]
  },
  {
   "cell_type": "code",
   "execution_count": null,
   "id": "6d566f8b",
   "metadata": {
    "scrolled": false
   },
   "outputs": [],
   "source": [
    "for i in range(N_TWEET_PRINT):\n",
    "    y_true_n = df_dublin[df_dublin['sentiment'] != df_dublin['sentiment_pred_class']].loc[mask[i], 'sentiment']\n",
    "    y_pred_n = df_dublin[df_dublin['sentiment'] != df_dublin['sentiment_pred_class']].loc[mask[i], 'sentiment_pred_class']\n",
    "    print(f\"Tweet {i+1}/{N_TWEET_PRINT}\")\n",
    "    print(f\"Real sentiment: {y_true_n}\")\n",
    "    print(f\"Predicted sentiment: {y_pred_n}\")\n",
    "    print(df_dublin[df_dublin['sentiment'] != df_dublin['sentiment_pred_class']].loc[mask[i], 'text'])\n",
    "    shap.plots._waterfall.waterfall_legacy(explainer.expected_value, shap_values[i], feature_names=word_vectorizer.get_feature_names())"
   ]
  },
  {
   "cell_type": "code",
   "execution_count": null,
   "id": "a1df3093",
   "metadata": {},
   "outputs": [],
   "source": []
  },
  {
   "cell_type": "code",
   "execution_count": null,
   "id": "6b13712c",
   "metadata": {},
   "outputs": [],
   "source": []
  }
 ],
 "metadata": {
  "kernelspec": {
   "display_name": "Python 3 (ipykernel)",
   "language": "python",
   "name": "python3"
  },
  "language_info": {
   "codemirror_mode": {
    "name": "ipython",
    "version": 3
   },
   "file_extension": ".py",
   "mimetype": "text/x-python",
   "name": "python",
   "nbconvert_exporter": "python",
   "pygments_lexer": "ipython3",
   "version": "3.7.11"
  }
 },
 "nbformat": 4,
 "nbformat_minor": 5
}
